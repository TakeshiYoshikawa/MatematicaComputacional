{
 "cells": [
  {
   "cell_type": "code",
   "execution_count": 1,
   "metadata": {},
   "outputs": [],
   "source": [
    "from IPython.display import Image\n",
    "from IPython.display import HTML\n",
    "import matplotlib.pyplot as plt\n",
    "import statistics \n",
    "import random as rand\n",
    "import numpy as np\n",
    "import numpy.random as npr\n",
    "import math"
   ]
  },
  {
   "cell_type": "markdown",
   "metadata": {},
   "source": [
    "# Random Walk"
   ]
  },
  {
   "cell_type": "code",
   "execution_count": 144,
   "metadata": {},
   "outputs": [
    {
     "data": {
      "text/plain": [
       "(0.06909926091111059, [-2.5335028, 4.30000532, -0.0027814314])"
      ]
     },
     "execution_count": 144,
     "metadata": {},
     "output_type": "execute_result"
    }
   ],
   "source": [
    "def getProximity(random_variables):\n",
    "    x1 = random_variables[0]\n",
    "    x2 = random_variables[1]\n",
    "    x3 = random_variables[2]\n",
    "    avg = []\n",
    "    equation = []\n",
    "    \n",
    "    #Forma da equação: ax1 + bx2 + cx3 = b\n",
    "    equation.append(3*x1 + 2*x2 + 4*x3)\n",
    "    equation.append(x1 + x2 + 2*x3)\n",
    "    equation.append(4*x1 + 3*x2 - 2*x3)\n",
    "\n",
    "    #Calcula a porcentagem de aproximação: (C-Y)/C\n",
    "    for i in range (3):\n",
    "        b = i+1\n",
    "        proximity = abs(b - equation[i])/b\n",
    "        avg.append(abs(proximity))\n",
    "    #print(equation)\n",
    "    return np.mean(avg), random_variables\n",
    "getProximity([-2.53350280,  4.30000532, -0.0027814314])"
   ]
  },
  {
   "cell_type": "code",
   "execution_count": 3,
   "metadata": {},
   "outputs": [],
   "source": [
    "def init_sequence(size):\n",
    "    i = 0\n",
    "    #Guarda as médias percentuais da média das 3 equações\n",
    "    proximity_averages = []\n",
    "    \n",
    "    while i < size:\n",
    "        _sequence = np.random.uniform(-10,10,3)\n",
    "        sequence = getProximity(_sequence)\n",
    "        proximity_averages.append(sequence)\n",
    "        i+=1\n",
    "    return proximity_averages"
   ]
  },
  {
   "cell_type": "code",
   "execution_count": 139,
   "metadata": {},
   "outputs": [],
   "source": [
    "def getBestCase(avg_equations,numIterations,bestCase, bestCases):\n",
    "    \n",
    "    #Condições de Parada\n",
    "    #if (bestCase[0] <= 0.10):\n",
    "     #   return bestCase, bestCases\n",
    "    if numIterations <= 0:\n",
    "        return bestCase, bestCases\n",
    "\n",
    "\n",
    "    '''\n",
    "    for i in range (50):\n",
    "        aux = avg_equations[i]\n",
    "        if 1-abs(aux[0]) > 1-abs(bestCase[0]) and 0.89<aux[0]<=1.:\n",
    "            bestCase = aux\n",
    "    '''\n",
    "    #Retira os 50% piores casos\n",
    "    avg_equations.sort()\n",
    "    #print(avg_equations[0], avg_equations[-1])\n",
    "    for i in range(25,50):\n",
    "        avg_equations.pop()\n",
    "        \n",
    "    avg_equations += init_sequence(25)\n",
    "    bestCase = avg_equations[0]\n",
    "    bestCases.append(bestCase[0])\n",
    "\n",
    "    return getBestCase(avg_equations,numIterations-1,bestCase, bestCases)"
   ]
  },
  {
   "cell_type": "markdown",
   "metadata": {},
   "source": [
    "## Plot da média do percentual de aproximação das melhores sequências por iteração"
   ]
  },
  {
   "cell_type": "code",
   "execution_count": 149,
   "metadata": {},
   "outputs": [
    {
     "name": "stdout",
     "output_type": "stream",
     "text": [
      "Execucao: 1\n",
      "Taxa de erro: 12.83 %\n",
      "Taxa de proximidade: 87.17 %\n",
      "Sequencia utilizada: [-2.33873518  4.03444746 -0.04653361] \n",
      "\n",
      "Execucao: 2\n",
      "Taxa de erro: 4.75 %\n",
      "Taxa de proximidade: 95.25 %\n",
      "Sequencia utilizada: [-2.52295494  4.33718249 -0.0296503 ] \n",
      "\n",
      "Execucao: 3\n",
      "Taxa de erro: 9.82 %\n",
      "Taxa de proximidade: 90.18 %\n",
      "Sequencia utilizada: [-2.74787952  4.79058547 -0.09293427] \n",
      "\n",
      "Execucao: 4\n",
      "Taxa de erro: 9.27 %\n",
      "Taxa de proximidade: 90.73 %\n",
      "Sequencia utilizada: [-2.85349755  4.79822813 -0.05169896] \n",
      "\n",
      "Execucao: 5\n",
      "Taxa de erro: 8.52 %\n",
      "Taxa de proximidade: 91.48 %\n",
      "Sequencia utilizada: [-2.63219642  4.49279642 -0.05146338] \n",
      "\n"
     ]
    },
    {
     "data": {
      "image/png": "[encoded data removed]",
      "text/plain": [
       "<Figure size 432x288 with 1 Axes>"
      ]
     },
     "metadata": {},
     "output_type": "display_data"
    },
    {
     "data": {
      "image/png": "[encoded data removed]",
      "text/plain": [
       "<Figure size 432x288 with 1 Axes>"
      ]
     },
     "metadata": {},
     "output_type": "display_data"
    }
   ],
   "source": [
    "\n",
    "numIterations = 10000\n",
    "i = 0\n",
    "j = 0\n",
    "\n",
    "best_results = []\n",
    "proximity_rate = []\n",
    "error_rate = []\n",
    "bar_width = 0.35\n",
    "index = np.arange(5)\n",
    "execucoes = ['execucao 1','execucao 2','execucao 3','execucao 4','execucao 5']\n",
    "import sys\n",
    "sys.setrecursionlimit(numIterations*10)\n",
    "media_por_iteracao = np.empty((5,numIterations))\n",
    "for i in range(5):\n",
    "    #Inicia 50 sequências de valores aleatórios num intervalo [-10,10]\n",
    "    avg_equations = init_sequence(50)\n",
    "    avg_equations.sort()\n",
    "\n",
    "    #A melhor solução será o primeiro elemento da lista, pós-ordenado.\n",
    "    bestCase = avg_equations[0]\n",
    "\n",
    "    melhor, melhores = getBestCase(avg_equations,numIterations, bestCase, [])\n",
    "    best_results.append(melhor)\n",
    "    media_por_iteracao[i] = melhores\n",
    "    perc = best_results[i][0] * 100\n",
    "    error = 100-perc\n",
    "    \n",
    "    #Armazena em proximity_rate os melhores percentuais de aproximação de cada execução.\n",
    "    proximity_rate.append(perc)\n",
    "    error_rate.append(error)\n",
    "    print(\"Execucao:\", (i + 1))\n",
    "    print(\"Taxa de erro:\",round(perc,2),\"%\")\n",
    "    print(\"Taxa de proximidade:\",round(error,2),\"%\")\n",
    "    print(\"Sequencia utilizada:\",best_results[i][1],\"\\n\")\n",
    "    \n",
    "\n",
    "proximidade = plt.bar(index,proximity_rate,width=0.8,color='green')\n",
    "plt.title('Taxa de Erro')\n",
    "plt.ylabel('Proximidade(%)')\n",
    "plt.xticks(index,('Execucao 1','Execucao 2','Execucao 3','Execucao 4','Execucao 5'))\n",
    "\n",
    "f, ax = plt.subplots()\n",
    "\n",
    "error = plt.bar(index+bar_width,error_rate,width=0.8, color='red')\n",
    "plt.title('Taxa de Proximidade')\n",
    "plt.ylabel('Erro(%)')\n",
    "plt.xticks(index,('Execucao 1','Execucao 2','Execucao 3','Execucao 4','Execucao 5'))\n",
    "plt.show()\n",
    "\n",
    "\n"
   ]
  },
  {
   "cell_type": "code",
   "execution_count": 155,
   "metadata": {},
   "outputs": [
    {
     "data": {
      "image/png": "[encoded data removed]",
      "text/plain": [
       "<Figure size 432x288 with 1 Axes>"
      ]
     },
     "metadata": {},
     "output_type": "display_data"
    }
   ],
   "source": [
    "media = plt.plot(100*media_por_iteracao.mean(axis=0))\n",
    "plt.xlabel('Iteracoes')\n",
    "plt.ylabel('Erro(%)')\n",
    "plt.show()"
   ]
  },
  {
   "cell_type": "markdown",
   "metadata": {},
   "source": [
    "## Calcular a média e o desvio padrão dos percentuais de aproximação considerando a melhor sequência das 5 execuções."
   ]
  },
  {
   "cell_type": "code",
   "execution_count": 151,
   "metadata": {},
   "outputs": [
    {
     "name": "stdout",
     "output_type": "stream",
     "text": [
      "Media: 9.04 %\n",
      "Desvio Padrão : 2.6 %\n"
     ]
    },
    {
     "data": {
      "image/png": "[encoded data removed]",
      "text/plain": [
       "<Figure size 432x288 with 1 Axes>"
      ]
     },
     "metadata": {},
     "output_type": "display_data"
    }
   ],
   "source": [
    "# Média e Desvio Padrão para 5 Execuções.\n",
    "\n",
    "average = [x[0] for x in best_results]\n",
    "average_ = round(np.mean(average)*100,2)\n",
    "deviation_ = round(np.std(average)*100,2)\n",
    "print(\"Media:\", average_, '%')\n",
    "print(\"Desvio Padrão :\", deviation_, '%')\n",
    "cases_array = [average_,deviation_]\n",
    "\n",
    "cases = ['Media','Desvio']\n",
    "plt.bar(cases,cases_array)\n",
    "plt.title('Exibição das médias e desvios')\n",
    "plt.ylabel('Percentual(%)')\n",
    "plt.show()"
   ]
  },
  {
   "cell_type": "markdown",
   "metadata": {},
   "source": [
    "## Comparar as soluções encontradas por força bruta e a solução exata"
   ]
  },
  {
   "cell_type": "code",
   "execution_count": 152,
   "metadata": {},
   "outputs": [
    {
     "name": "stdout",
     "output_type": "stream",
     "text": [
      "[-3.  5.  0.]\n",
      "Aproximação de todas execucoes com o resultado verdadeiro: 2.4 %\n"
     ]
    }
   ],
   "source": [
    "#Resultado real.\n",
    "x = np.linalg.solve([ [3, 2, 4], [1, 1, 2], [4, 3, -2] ],[ 1, 2, 3 ])\n",
    "print(x)\n",
    "\n",
    "#Calcula a disparidade das execucoes ao resultado exato.\n",
    "results = [x[1] for x in best_results]\n",
    "final_avg = []\n",
    "for i in range (5):\n",
    "\tindividual_avg = []\n",
    "\tfor j in range (0,3):\n",
    "        #Verifica cada variável x e compara o grau de proximidade entre as variáveis exatas.\n",
    "\t\tproximity = (results[i][j]) - x[j]/results[i][j]\n",
    "\t\tindividual_avg.append(abs(proximity))\n",
    "\tfinal_avg.append(np.mean(individual_avg))\n",
    "\n",
    "print(\"Aproximação de todas execucoes com o resultado verdadeiro:\",round(np.mean(final_avg),2),'%')"
   ]
  },
  {
   "cell_type": "code",
   "execution_count": null,
   "metadata": {},
   "outputs": [],
   "source": []
  }
 ],
 "metadata": {
  "kernelspec": {
   "display_name": "Python 3",
   "language": "python",
   "name": "python3"
  },
  "language_info": {
   "codemirror_mode": {
    "name": "ipython",
    "version": 3
   },
   "file_extension": ".py",
   "mimetype": "text/x-python",
   "name": "python",
   "nbconvert_exporter": "python",
   "pygments_lexer": "ipython3",
   "version": "3.6.7"
  }
 },
 "nbformat": 4,
 "nbformat_minor": 2
}
