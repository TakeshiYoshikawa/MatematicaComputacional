{
 "cells": [
  {
   "cell_type": "markdown",
   "metadata": {},
   "source": [
    "# Índice\n",
    "\n",
    "- [Erro Relativo e Absoluto](#Erro-Relativo-e-Absoluto)\n",
    "- [Plot do Erro Relativo](#Plot-do-Erro-Relativo)\n",
    "- [Plotagem do Erro Absoluto e Relativo](#Plot-o-erro-Absoluto-e-Relativo)\n",
    "- [Adição do Erro Absoluto e Relativo](#Adição-de-Erro-Relativo-e-Absoluto)\n",
    "- [Subtração do Erro Absoluto e Relativo](#Subtração-de-Erro-Relativo-e-Absoluto)\n",
    "- [Multiplicação do Erro Absoluto e Relativo](#Multiplicação-de-Erro-Relativo-e-Absoluto)\n",
    "- [Divisão do Erro Absoluto e Relativo](#Divisão-de-Erro-Relativo-e-Absoluto)"
   ]
  },
  {
   "cell_type": "code",
   "execution_count": 16,
   "metadata": {
    "collapsed": true
   },
   "outputs": [],
   "source": [
    "import numpy as np\n",
    "import matplotlib.pyplot as plt"
   ]
  },
  {
   "cell_type": "markdown",
   "metadata": {},
   "source": [
    "# Erro Relativo e Absoluto"
   ]
  },
  {
   "cell_type": "code",
   "execution_count": 69,
   "metadata": {},
   "outputs": [
    {
     "name": "stdout",
     "output_type": "stream",
     "text": [
      "Erro relativo: 0.0047328316531780965\n",
      "Erro relativo: 1.886792452830189\n"
     ]
    }
   ],
   "source": [
    "ER = (0.1/2112.9)*100\n",
    "print('Erro relativo:',ER)\n",
    "\n",
    "ER = (0.1/5.3)*100\n",
    "print('Erro relativo:',ER)"
   ]
  },
  {
   "cell_type": "markdown",
   "metadata": {},
   "source": [
    "# Plot do Erro Relativo"
   ]
  },
  {
   "cell_type": "code",
   "execution_count": 59,
   "metadata": {},
   "outputs": [
    {
     "name": "stdout",
     "output_type": "stream",
     "text": [
      "[0.1, 0.01, 0.001, 0.0001, 1e-05, 1e-06, 1e-07, 1e-08, 1e-09, 1e-10]\n"
     ]
    },
    {
     "data": {
      "image/png": "[encoded data removed]",
      "text/plain": [
       "<matplotlib.figure.Figure at 0x15ca1ca1b38>"
      ]
     },
     "metadata": {},
     "output_type": "display_data"
    }
   ],
   "source": [
    "def function(ER):\n",
    "    plt.plot(ER)\n",
    "    plt.show()\n",
    "    \n",
    "ER = []\n",
    "for t in range(2,12,1):\n",
    "    ER.append(10**(-t+1))\n",
    "print(ER)\n",
    "\n",
    "function(ER)"
   ]
  },
  {
   "cell_type": "markdown",
   "metadata": {},
   "source": [
    "# Plot o erro Absoluto e Relativo"
   ]
  },
  {
   "cell_type": "code",
   "execution_count": 67,
   "metadata": {},
   "outputs": [
    {
     "data": {
      "image/png": "[encoded data removed]",
      "text/plain": [
       "<matplotlib.figure.Figure at 0x15ca1bc94e0>"
      ]
     },
     "metadata": {},
     "output_type": "display_data"
    }
   ],
   "source": [
    "import numpy as np\n",
    "import matplotlib.pyplot as plt\n",
    "\n",
    "x = np.linspace(2,12,500)\n",
    "plt.plot(x, 10**(-x+1),'--r')\n",
    "plt.plot(x , 0.5*10**(-x+1),'--g')\n",
    "plt.show()"
   ]
  },
  {
   "cell_type": "markdown",
   "metadata": {},
   "source": [
    "# Adição de Erro Relativo e Absoluto"
   ]
  },
  {
   "cell_type": "code",
   "execution_count": 4,
   "metadata": {},
   "outputs": [
    {
     "name": "stdout",
     "output_type": "stream",
     "text": [
      "Soma Absoluta: 0.000638537271448664\n"
     ]
    }
   ],
   "source": [
    "def soma_absoluta(EAx, EAy):\n",
    "    return print('Soma Absoluta:',EAx+EAy)\n",
    "    \n",
    "valor1_exato = 3.1489\n",
    "valor1_aproximado = 3.15\n",
    "EAx = abs((valor1_exato - valor1_aproximado))\n",
    "\n",
    "valor2_exato = 5.5284\n",
    "valor2_aproximado = 5.53\n",
    "EAy = abs((valor2_exato - valor2_aproximado))\n",
    "\n",
    "soma_absoluta(ERx, ERy)"
   ]
  },
  {
   "cell_type": "code",
   "execution_count": 3,
   "metadata": {},
   "outputs": [
    {
     "name": "stdout",
     "output_type": "stream",
     "text": [
      "Soma Relativa: 0.00031105990783409276\n"
     ]
    }
   ],
   "source": [
    "def soma_relativa(ERx, ERy, x_aprox, y_aprox):\n",
    "    return print('Soma Relativa:',ERx*(x_aprox/(x_aprox + y_aprox)) + ERy*(y_aprox/(x_aprox + y_aprox)))\n",
    "    \n",
    "valor1_exato = 3.1489\n",
    "valor1_aproximado = 3.15\n",
    "EAx = abs((valor1_exato - valor1_aproximado))\n",
    "ERx = (EAx / valor1_aproximado)\n",
    "\n",
    "valor2_exato = 5.5284\n",
    "valor2_aproximado = 5.53\n",
    "EAy = abs((valor2_exato - valor2_aproximado))\n",
    "ERy = abs((EAy / valor2_aproximado))\n",
    "\n",
    "soma_relativa(ERx, ERy, valor1_aproximado, valor2_aproximado)"
   ]
  },
  {
   "cell_type": "markdown",
   "metadata": {
    "collapsed": true
   },
   "source": [
    "# Subtração de Erro Relativo e Absoluto"
   ]
  },
  {
   "cell_type": "code",
   "execution_count": 5,
   "metadata": {},
   "outputs": [
    {
     "name": "stdout",
     "output_type": "stream",
     "text": [
      "Subtração Absoluta: 5.987542696409844e-05\n"
     ]
    }
   ],
   "source": [
    "def subtracao_absoluta(EAx, EAy):\n",
    "    return print('Subtração Absoluta:',EAx-EAy)\n",
    "    \n",
    "valor1_exato = 3.1489\n",
    "valor1_aproximado = 3.15\n",
    "EAx = abs((valor1_exato - valor1_aproximado))\n",
    "\n",
    "valor2_exato = 5.5284\n",
    "valor2_aproximado = 5.53\n",
    "EAy = abs((valor2_exato - valor2_aproximado))\n",
    "\n",
    "subtracao_absoluta(ERx, ERy)"
   ]
  },
  {
   "cell_type": "code",
   "execution_count": 6,
   "metadata": {},
   "outputs": [
    {
     "name": "stdout",
     "output_type": "stream",
     "text": [
      "Subtração Relativa: 0.00021008403361332895\n"
     ]
    }
   ],
   "source": [
    "def subtracao_relativa(ERx, ERy, x_aprox, y_aprox):\n",
    "    return print('Subtração Relativa:', ERx*(x_aprox/(x_aprox - y_aprox)) - ERy*(y_aprox/(x_aprox - y_aprox)))\n",
    "\n",
    "valor1_exato = 3.1489\n",
    "valor1_aproximado = 3.15\n",
    "EAx = abs((valor1_exato - valor1_aproximado))\n",
    "ERx = abs((EAx / valor1_aproximado))\n",
    "\n",
    "valor2_exato = 5.5284\n",
    "valor2_aproximado = 5.53\n",
    "EAy = abs((valor2_exato - valor2_aproximado))\n",
    "ERy = abs((EAy / valor2_aproximado))\n",
    "\n",
    "subtracao_relativa(ERx, ERy, valor1_aproximado, valor2_aproximado)"
   ]
  },
  {
   "cell_type": "markdown",
   "metadata": {
    "collapsed": true
   },
   "source": [
    "# Multiplicação de Erro Relativo e Absoluto"
   ]
  },
  {
   "cell_type": "code",
   "execution_count": 7,
   "metadata": {},
   "outputs": [
    {
     "name": "stdout",
     "output_type": "stream",
     "text": [
      "Multiplicação Absoluta: 0.0026999999999999247\n"
     ]
    }
   ],
   "source": [
    "def multiplicacao_absoluta(x_aprox, y_aprox, EAx, EAy):\n",
    "    return print('Multiplicação Absoluta:',(x_aprox*EAx)+(y_aprox*EAy))\n",
    "    \n",
    "valor1_exato = 3.1489\n",
    "valor1_aproximado = 3.15\n",
    "EAx = abs((valor1_exato - valor1_aproximado))\n",
    "\n",
    "valor2_exato = 5.5284\n",
    "valor2_aproximado = 5.53\n",
    "EAy = abs((valor2_exato - valor2_aproximado))\n",
    "\n",
    "multiplicacao_absoluta(valor1_aproximado, valor2_aproximado, ERx, ERy)"
   ]
  },
  {
   "cell_type": "code",
   "execution_count": 11,
   "metadata": {},
   "outputs": [
    {
     "name": "stdout",
     "output_type": "stream",
     "text": [
      "Multiplicação Relativa: 0.000638537271448664\n"
     ]
    }
   ],
   "source": [
    "def multiplicacao_relativa(ERx, ERy):\n",
    "    return print('Multiplicação Relativa:', ERx + ERy)\n",
    "\n",
    "valor1_exato = 3.1489\n",
    "valor1_aproximado = 3.15\n",
    "EAx = abs((valor1_exato - valor1_aproximado))\n",
    "ERx = abs((EAx / valor1_aproximado))\n",
    "\n",
    "valor2_exato = 5.5284\n",
    "valor2_aproximado = 5.53\n",
    "EAy = abs((valor2_exato - valor2_aproximado))\n",
    "ERy = abs((EAy / valor2_aproximado))\n",
    "\n",
    "multiplicacao_relativa(ERx, ERy)"
   ]
  },
  {
   "cell_type": "markdown",
   "metadata": {
    "collapsed": true
   },
   "source": [
    "# Divisão de Erro Relativo e Absoluto"
   ]
  },
  {
   "cell_type": "code",
   "execution_count": 16,
   "metadata": {},
   "outputs": [
    {
     "name": "stdout",
     "output_type": "stream",
     "text": [
      "Subtração Relativa: 3.4106255865625706e-05\n"
     ]
    }
   ],
   "source": [
    "def divisao_absoluta(ERx, ERy, x_aprox, y_aprox):\n",
    "    return print('Subtração Relativa:', (y_aprox*EAx - x_aprox*EAy)/(y_aprox**2))\n",
    "\n",
    "valor1_exato = 3.1489\n",
    "valor1_aproximado = 3.15\n",
    "EAx = abs((valor1_exato - valor1_aproximado))\n",
    "ERx = abs((EAx / valor1_aproximado))\n",
    "\n",
    "valor2_exato = 5.5284\n",
    "valor2_aproximado = 5.53\n",
    "EAy = abs((valor2_exato - valor2_aproximado))\n",
    "ERy = abs((EAy / valor2_aproximado))\n",
    "\n",
    "divisao_absoluta(ERx, ERy, valor1_aproximado, valor2_aproximado)"
   ]
  },
  {
   "cell_type": "code",
   "execution_count": 17,
   "metadata": {},
   "outputs": [
    {
     "name": "stdout",
     "output_type": "stream",
     "text": [
      "Subtração Relativa: 5.987542696409844e-05\n"
     ]
    }
   ],
   "source": [
    "def divisao_relativa(ERx, ERy):\n",
    "    return print('Subtração Relativa:', ERx - ERy)\n",
    "\n",
    "valor1_exato = 3.1489\n",
    "valor1_aproximado = 3.15\n",
    "EAx = abs((valor1_exato - valor1_aproximado))\n",
    "ERx = abs((EAx / valor1_aproximado))\n",
    "\n",
    "valor2_exato = 5.5284\n",
    "valor2_aproximado = 5.53\n",
    "EAy = abs((valor2_exato - valor2_aproximado))\n",
    "ERy = abs((EAy / valor2_aproximado))\n",
    "\n",
    "divisao_relativa(ERx, ERy)"
   ]
  },
  {
   "cell_type": "code",
   "execution_count": null,
   "metadata": {
    "collapsed": true
   },
   "outputs": [],
   "source": []
  },
  {
   "cell_type": "code",
   "execution_count": null,
   "metadata": {
    "collapsed": true
   },
   "outputs": [],
   "source": []
  }
 ],
 "metadata": {
  "anaconda-cloud": {},
  "kernelspec": {
   "display_name": "Python 3",
   "language": "python",
   "name": "python3"
  },
  "language_info": {
   "codemirror_mode": {
    "name": "ipython",
    "version": 3
   },
   "file_extension": ".py",
   "mimetype": "text/x-python",
   "name": "python",
   "nbconvert_exporter": "python",
   "pygments_lexer": "ipython3",
   "version": "3.6.2"
  }
 },
 "nbformat": 4,
 "nbformat_minor": 1
}
