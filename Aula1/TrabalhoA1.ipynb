{
 "cells": [
  {
   "cell_type": "markdown",
   "metadata": {},
   "source": [
    "# Trabalho A1"
   ]
  },
  {
   "cell_type": "markdown",
   "metadata": {},
   "source": [
    "- [Primeira Questão](#Primeira-Questão)\n",
    "- [Segunda Questão](#Segunda-Questão)\n",
    "    - [Retas que se cruzam](#Retas-que-se-cruzam)\n",
    "    - [Retas Paralelas](#Retas-Paralelas)\n",
    "- [Terceira Questão](#Terceira-Questão)"
   ]
  },
  {
   "cell_type": "markdown",
   "metadata": {},
   "source": [
    "# Primeira Questão"
   ]
  },
  {
   "cell_type": "code",
   "execution_count": 6,
   "metadata": {},
   "outputs": [
    {
     "name": "stdout",
     "output_type": "stream",
     "text": [
      "[105 125 150 175 195]\n",
      "[False False  True False False  True False False  True False]\n",
      "[12 15 18]\n"
     ]
    }
   ],
   "source": [
    "import numpy as np\n",
    "\n",
    "arr = np.arange(100,200) #Criando um array delimitado entre 100 a 200\n",
    "select = [5,25,50,75,-5] # Selecionando os 5 valores correspondentes as posições do índice\n",
    "print(arr[select]) #Imprime os 5 valores armazenados em select\n",
    "\n",
    "arr = np.arange(10,20) #Outro array com limite de 10 a 20\n",
    "div_by_3 = arr%3 == 0 #div_by_3 guarda os valores da lista que divididos por 3 tem resto 0\n",
    "\n",
    "print(div_by_3) #Imprime div_by_3 por resultado lógico\n",
    "print(arr[div_by_3]) #Imprime o vetor div_by_3\n",
    "arr = np.arange(10,20).reshape((2,5)) #Exibir um array de elementos de 10 a 19 numa ordem 2x5.\n"
   ]
  },
  {
   "cell_type": "markdown",
   "metadata": {},
   "source": [
    "# Segunda Questão"
   ]
  },
  {
   "cell_type": "markdown",
   "metadata": {},
   "source": [
    "## Retas que se cruzam"
   ]
  },
  {
   "cell_type": "code",
   "execution_count": 172,
   "metadata": {},
   "outputs": [
    {
     "name": "stdout",
     "output_type": "stream",
     "text": [
      "[ 1.  2.  3.  4.  5.  6.  7.  8.  9. 10.]\n",
      "[-3. -1.  1.  3.  5.  7.  9. 11. 13. 15.]\n"
     ]
    },
    {
     "data": {
      "image/png": "[encoded data removed]",
      "text/plain": [
       "<Figure size 432x288 with 1 Axes>"
      ]
     },
     "metadata": {},
     "output_type": "display_data"
    }
   ],
   "source": [
    "import numpy as np\n",
    "import matplotlib.pyplot as plt\n",
    "\n",
    "a = np.linspace(1,10,10)\n",
    "b = 2*a-5\n",
    "print(a)\n",
    "print(b)\n",
    "plt.plot(a, a, a, b)\n",
    "#plt.plot(b)\n",
    "\n",
    "plt.show()"
   ]
  },
  {
   "cell_type": "markdown",
   "metadata": {},
   "source": [
    "## Retas Paralelas"
   ]
  },
  {
   "cell_type": "code",
   "execution_count": 178,
   "metadata": {},
   "outputs": [
    {
     "name": "stdout",
     "output_type": "stream",
     "text": [
      "[ 1.  2.  3.  4.  5.  6.  7.  8.  9. 10.]\n",
      "[ 2.  3.  4.  5.  6.  7.  8.  9. 10. 11.]\n"
     ]
    },
    {
     "data": {
      "image/png": "[encoded data removed]",
      "text/plain": [
       "<Figure size 432x288 with 1 Axes>"
      ]
     },
     "metadata": {},
     "output_type": "display_data"
    }
   ],
   "source": [
    "a = np.linspace(1,10,10)\n",
    "b = a+1\n",
    "print(a)\n",
    "print(b)\n",
    "plt.plot(a)\n",
    "plt.plot(b)\n",
    "\n",
    "plt.show()"
   ]
  },
  {
   "cell_type": "markdown",
   "metadata": {},
   "source": [
    "# Terceira Questão"
   ]
  },
  {
   "cell_type": "code",
   "execution_count": 1,
   "metadata": {},
   "outputs": [
    {
     "name": "stdout",
     "output_type": "stream",
     "text": [
      "Valor: 10.20\n",
      "Binario: 1010.00110\n"
     ]
    },
    {
     "data": {
      "text/plain": [
       "' Fim do programa '"
      ]
     },
     "execution_count": 1,
     "metadata": {},
     "output_type": "execute_result"
    }
   ],
   "source": [
    "def int2bin(valor):\n",
    "    binario = ''\n",
    "    \n",
    "    if(valor == 0):\n",
    "        return 0\n",
    "    elif(valor == 1):\n",
    "        return 1\n",
    "    \n",
    "    while(valor != 0):\n",
    "        binario += str(valor%2)\n",
    "        valor = int(valor/2)\n",
    "    \n",
    "    return binario[::-1]\n",
    "#end int2bin\n",
    "\n",
    "def frac2bin(valor):\n",
    "    valor = str(valor) \n",
    "    valor = str('0.'+ valor)\n",
    "    valor = float(valor) \n",
    "\n",
    "    fraction2bin = '' \n",
    "    listaElemento = [] \n",
    "\n",
    "    while (valor != 0.00):\n",
    "        valor *= 2 \n",
    "        aux = valor\n",
    "        aux = int(aux) \n",
    "        fraction2bin += str(aux) \n",
    "        valor = round(valor - aux,2) \n",
    "\n",
    "        if (valor in listaElemento):\n",
    "            break\n",
    "            \n",
    "        listaElemento.append(valor) \n",
    "    return fraction2bin\n",
    "#end frac2bin\n",
    "\n",
    "''' Início do programa '''\n",
    "x = str(input(\"Valor: \"))\n",
    "\n",
    "if ('.' in x): \n",
    "    # Particiono a string de entrada em dois, sendo esses: antes do ponto (inteiro) e depois do ponto (fração')\n",
    "    inteiro, fracao = x.split('.')  \n",
    "    \n",
    "    inteiro = int(inteiro) \n",
    "    fracao = int(fracao)\n",
    "\n",
    "    inteiro = int2bin(inteiro) \n",
    "    fracao = frac2bin(fracao)\n",
    "\n",
    "    # Concateno as duas strings\n",
    "    print(\"Binario: {}.{}\".format(inteiro,fracao)) \n",
    "\n",
    "else:\n",
    "    inteiro = int2bin(x)\n",
    "    print(\"Binario: {}\".format(inteiro))\n",
    "\n",
    "''' Fim do programa '''"
   ]
  }
 ],
 "metadata": {
  "kernelspec": {
   "display_name": "Python 3",
   "language": "python",
   "name": "python3"
  },
  "language_info": {
   "codemirror_mode": {
    "name": "ipython",
    "version": 3
   },
   "file_extension": ".py",
   "mimetype": "text/x-python",
   "name": "python",
   "nbconvert_exporter": "python",
   "pygments_lexer": "ipython3",
   "version": "3.6.5"
  }
 },
 "nbformat": 4,
 "nbformat_minor": 2
}
