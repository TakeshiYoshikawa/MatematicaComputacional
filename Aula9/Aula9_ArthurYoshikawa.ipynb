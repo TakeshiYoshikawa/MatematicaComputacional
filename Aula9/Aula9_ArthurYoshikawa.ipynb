{
  "nbformat": 4,
  "nbformat_minor": 0,
  "metadata": {
    "colab": {
      "name": "Aula9_ArthurYoshikawa.ipynb",
      "version": "0.3.2",
      "provenance": [],
      "include_colab_link": true
    },
    "kernelspec": {
      "display_name": "Python 3",
      "language": "python",
      "name": "python3"
    }
  },
  "cells": [
    {
      "cell_type": "markdown",
      "metadata": {
        "id": "view-in-github",
        "colab_type": "text"
      },
      "source": [
        "<a href=\"https://colab.research.google.com/github/TakeshiYoshikawa/Aula9/blob/master/Aula9_ArthurYoshikawa.ipynb\" target=\"_parent\"><img src=\"https://colab.research.google.com/assets/colab-badge.svg\" alt=\"Open In Colab\"/></a>"
      ]
    },
    {
      "metadata": {
        "colab_type": "code",
        "id": "2Q-ROQ5TYhnw",
        "colab": {}
      },
      "cell_type": "code",
      "source": [
        "import matplotlib.pyplot as plt\n",
        "import numpy as np\n",
        "import numpy.random as npr\n",
        "import math"
      ],
      "execution_count": 0,
      "outputs": []
    },
    {
      "metadata": {
        "colab_type": "text",
        "id": "8p1hnVIeYhn1"
      },
      "cell_type": "markdown",
      "source": [
        "## Resolução de um Sistema Triangular Superior"
      ]
    },
    {
      "metadata": {
        "colab_type": "code",
        "id": "CVWbpPZ1Yhn1",
        "colab": {}
      },
      "cell_type": "code",
      "source": [
        "def solveUpperTriangular(A,b):\n",
        "    # m são linhas, e n são as colunas\n",
        "    m = np.shape(A)[0]\n",
        "    n = np.shape(A)[1]\n",
        "    x = np.zeros(n)\n",
        "    \n",
        "    x[n-1] = b[n-1]/A[n-1,n-1]\n",
        "    \n",
        "    for k in range(n-1,-1,-1):\n",
        "        s = 0\n",
        "        for j in range(k,n):\n",
        "            s += A[k][j]*x[j]\n",
        "            x[k] = (b[k] - s)/A[k,k]\n",
        "            \n",
        "    return x"
      ],
      "execution_count": 0,
      "outputs": []
    },
    {
      "metadata": {
        "colab_type": "text",
        "id": "_Nrnzq60Yhn4"
      },
      "cell_type": "markdown",
      "source": [
        "## Eliminação de Gauss"
      ]
    },
    {
      "metadata": {
        "colab_type": "code",
        "id": "svaZ4KKqYhn5",
        "outputId": "93345ebf-2f9a-4212-b940-379d44144f20",
        "colab": {
          "base_uri": "https://localhost:8080/",
          "height": 272
        }
      },
      "cell_type": "code",
      "source": [
        "def gaussElimination(A,b):\n",
        "    n = len(A)\n",
        "    \n",
        "    if(np.size(b) != n):\n",
        "        raise SizeError(\"Incompatible sizes between matrix A and vector b.\")\n",
        "        \n",
        "    # k is pivot_row\n",
        "    for k in range(n-1):\n",
        "        #i is the row being analyzed.\n",
        "        for i in range(k+1, n):\n",
        "            m = A[i,k]/A[k,k]\n",
        "            A[i,k] = 0\n",
        "            print(A,'\\n')\n",
        "            # j is column index.\n",
        "            for j in range(k+1, n):\n",
        "                A[i,j] = A[i,j] - m*A[k,j]\n",
        "            b[i] = b[i] - m*b[k]\n",
        "    \n",
        "    \n",
        "    x = np.zeros(n)\n",
        "    k = n-1\n",
        "    \n",
        "    x[k] = b[k]/A[k,k]\n",
        "    \n",
        "    while(k >= 0):\n",
        "        s = np.dot(A[k,k+1:],x[k+1:])\n",
        "        x[k] = (b[k] - s) / A[k,k]\n",
        "        k -= 1\n",
        "    return x\n",
        "\n",
        "\n",
        "A = np.array([[3,2,4],[1,1,2],[4,3,-2]], dtype='float')\n",
        "b = np.array([1,2,3], dtype='float')\n",
        "\n",
        "print('Utilizando numpy:',np.linalg.solve(A,b))\n",
        "print('Resolvendo pela eliminação gaussiana:\\n',gaussElimination(A,b))"
      ],
      "execution_count": 35,
      "outputs": [
        {
          "output_type": "stream",
          "text": [
            "Utilizando numpy: [-3.  5.  0.]\n",
            "[[ 3.  2.  4.]\n",
            " [ 0.  1.  2.]\n",
            " [ 4.  3. -2.]] \n",
            "\n",
            "[[ 3.          2.          4.        ]\n",
            " [ 0.          0.33333333  0.66666667]\n",
            " [ 0.          3.         -2.        ]] \n",
            "\n",
            "[[ 3.          2.          4.        ]\n",
            " [ 0.          0.33333333  0.66666667]\n",
            " [ 0.          0.         -7.33333333]] \n",
            "\n",
            "Resolvendo pela eliminação gaussiana:\n",
            " [-3.00000000e+00  5.00000000e+00  5.55111512e-17]\n"
          ],
          "name": "stdout"
        }
      ]
    },
    {
      "metadata": {
        "colab_type": "text",
        "id": "fFImFe7uYhn-"
      },
      "cell_type": "markdown",
      "source": [
        "## Analisar a Eliminação para o sistema dado no Google: Gauss Elimination Wiki"
      ]
    },
    {
      "metadata": {
        "colab_type": "code",
        "id": "ao620m2rYhn_",
        "outputId": "1024fcfd-4d14-4387-a539-b8dffa9c1f50",
        "colab": {
          "base_uri": "https://localhost:8080/",
          "height": 357
        }
      },
      "cell_type": "code",
      "source": [
        "A = np.array([[1,3,1],[1,1,-1],[3,11,5]], dtype='float') \n",
        "b = np.array([9,1,35], dtype='float')\n",
        "print('Determinante de A',np.linalg.det(A))\n",
        "print('\\nA eliminação não foi bem sucedida devido ao fato do determinante = 0. É necessário a utilização de outra técnica para redução de erros de precisão.')\n",
        "print('\\nResolução do sistema via eliminação gaussiana\\n',gaussElimination(A,b))"
      ],
      "execution_count": 36,
      "outputs": [
        {
          "output_type": "stream",
          "text": [
            "Determinante de A 0.0\n",
            "\n",
            "A eliminação não foi bem sucedida devido ao fato do determinante = 0. É necessário a utilização de outra técnica para redução de erros de precisão.\n",
            "[[ 1.  3.  1.]\n",
            " [ 0.  1. -1.]\n",
            " [ 3. 11.  5.]] \n",
            "\n",
            "[[ 1.  3.  1.]\n",
            " [ 0. -2. -2.]\n",
            " [ 0. 11.  5.]] \n",
            "\n",
            "[[ 1.  3.  1.]\n",
            " [ 0. -2. -2.]\n",
            " [ 0.  0.  2.]] \n",
            "\n",
            "\n",
            "Resolução do sistema via eliminação gaussiana\n",
            " [nan nan nan]\n"
          ],
          "name": "stdout"
        },
        {
          "output_type": "stream",
          "text": [
            "/usr/local/lib/python3.6/dist-packages/ipykernel_launcher.py:23: RuntimeWarning: invalid value encountered in double_scalars\n",
            "/usr/local/lib/python3.6/dist-packages/ipykernel_launcher.py:27: RuntimeWarning: invalid value encountered in double_scalars\n"
          ],
          "name": "stderr"
        }
      ]
    },
    {
      "metadata": {
        "colab_type": "text",
        "id": "hKWodI2aYhoB"
      },
      "cell_type": "markdown",
      "source": [
        "## Executar melhorias na Eliminação Gaussiana"
      ]
    },
    {
      "metadata": {
        "colab_type": "text",
        "id": "VBImbMlSYhoC"
      },
      "cell_type": "markdown",
      "source": [
        "Melhoria 1 - Se elemento zero abaixo do pivô: continue. "
      ]
    },
    {
      "metadata": {
        "colab_type": "text",
        "id": "_K_mw188YhoD"
      },
      "cell_type": "markdown",
      "source": [
        "Melhoria 2 - Se um dos pivôs for zero mostrar mensagem de erro"
      ]
    },
    {
      "metadata": {
        "colab_type": "text",
        "id": "ACZ_lk0lYhoD"
      },
      "cell_type": "markdown",
      "source": [
        "Melhoria 3 - Se determinante = 0: mensagem de erro. Else: aplicar gaussElmination"
      ]
    },
    {
      "metadata": {
        "colab_type": "code",
        "id": "UL4k9TyfYhoF",
        "outputId": "22482646-403c-489b-b184-e9eee7a1f445",
        "colab": {
          "base_uri": "https://localhost:8080/",
          "height": 68
        }
      },
      "cell_type": "code",
      "source": [
        "def improvedGaussElimination(A,b):\n",
        "    n = len(A)\n",
        "    print('Verify determinant:',np.linalg.det(A))\n",
        "    \n",
        "    if(np.size(b) != n):\n",
        "        raise SizeError(\"Incompatible sizes between matrix A and vector b.\")\n",
        "    if(np.linalg.det(A) == 0):\n",
        "        return \"Singular Matrix - Determinant equals 0, unable to process given matrix\"\n",
        "        \n",
        "    for k in range(n):\n",
        "        #A[k,k] refers to chosen pivot per iteration.\n",
        "        if(A[k,k] == 0):\n",
        "            print(\"Pivot equals 0 (Error)\")\n",
        "            continue\n",
        "            \n",
        "        for i in range(k+1, n):\n",
        "            #A[i,k] é o elemento abaixo do pivô.\n",
        "            if(A[i,k] == 0):\n",
        "                continue\n",
        "            m = A[i,k]/A[k,k]\n",
        "            A[i,k] = 0\n",
        "            print(A,'\\n')\n",
        "            \n",
        "            for j in range(k+1, n):\n",
        "                A[i,j] = A[i,j] - m*A[k,j]\n",
        "            b[i] = b[i] - m*b[k]\n",
        "    \n",
        "    x = np.zeros(n)\n",
        "    k = n-1\n",
        "    \n",
        "    x[k] = b[k]/A[k,k]\n",
        "    \n",
        "    while(k >= 0):\n",
        "        s = np.dot(A[k,k+1:],x[k+1:])\n",
        "        x[k] = (b[k] - s) / A[k,k]\n",
        "        k -= 1\n",
        "\n",
        "    return x\n",
        "\n",
        "\n",
        "A = np.array([[1,3,1],[1,1,-1],[3,11,5]], dtype='float')\n",
        "b = np.array([9,1,35], dtype='float')\n",
        "#A = np.array([[3,2,4,-1],[0,1,0,3],[0,-3,-5,7],[0,2,4,0]], dtype='float')\n",
        "#b = np.array([5,6,7,15], dtype='float')\n",
        "\n",
        "\n",
        "print('Resolvendo pela eliminação gaussiana:\\n',improvedGaussElimination(A,b))"
      ],
      "execution_count": 37,
      "outputs": [
        {
          "output_type": "stream",
          "text": [
            "Verify determinant: 0.0\n",
            "Resolvendo pela eliminação gaussiana:\n",
            " Singular Matrix - Determinant equals 0, unable to process given matrix\n"
          ],
          "name": "stdout"
        }
      ]
    },
    {
      "metadata": {
        "colab_type": "text",
        "id": "R0OvANOBYhoI"
      },
      "cell_type": "markdown",
      "source": [
        "## Desenvolva um def para o Pivotamento Parcial"
      ]
    },
    {
      "metadata": {
        "colab_type": "code",
        "id": "uPcaNS8QYhoJ",
        "outputId": "7400786a-9986-40d6-aba1-6e4d025e1ba5",
        "colab": {
          "base_uri": "https://localhost:8080/",
          "height": 68
        }
      },
      "cell_type": "code",
      "source": [
        "def doPartialPivoting(A, b):\n",
        "    n = len(A)\n",
        "    x = np.zeros(n)\n",
        "    \n",
        "    #Points incompability between matrix and vector\n",
        "    if (np.size(b) != n):\n",
        "        print('Incompatible sizes between A =', n, 'and b =', np.size(b))\n",
        "        return -1\n",
        "    \n",
        "    # Elimination\n",
        "    for k in range(n-1):\n",
        "        if A[k,k] == 0:\n",
        "            print('Pivot equals zero.')     \n",
        "            return -1\n",
        "        \n",
        "        # Pivot\n",
        "        maxindex = np.argmax(abs(A[k:,k])) + k\n",
        "        if (A[maxindex, k] == 0):\n",
        "            print('Determinant equals 0.')\n",
        "            return -1\n",
        "        \n",
        "        if (maxindex != k):\n",
        "            A[[k,maxindex]] = A[[maxindex, k]]\n",
        "            b[[k,maxindex]] = b[[maxindex, k]]\n",
        "            \n",
        "        #Eliminate for each row\n",
        "        for i in range(k+1, n):\n",
        "            m = A[i,k]/A[k,k]\n",
        "            A[i, k:] = A[i, k:] - m*A[k, k:]\n",
        "            b[i] = b[i] - m*b[k]\n",
        "    \n",
        "    # Back Substitution\n",
        "    for k in range(n-1, -1, -1):\n",
        "        s = np.dot(A[k,k+1:],x[k+1:])\n",
        "        x[k] = (b[k] - s)/A[k,k]\n",
        "        \n",
        "    return A,x\n",
        "\n",
        "\n",
        "A = np.array([[3,2,4],[1,1,2],[4,3,-2]], dtype='float')\n",
        "b = np.array([1,2,3], dtype='float')\n",
        "#A = np.array([[2,2,2],[2,-2,2],[2,-2,-2]], dtype='float')\n",
        "#b = np.array([20,8,0], dtype='float')\n",
        "#A = np.array([[1,3,1],[1,1,-1],[3,11,5]], dtype='float')\n",
        "#b = np.array([9,1,35], dtype='float')\n",
        "\n",
        "print('x* =',doPartialPivoting(A,b))"
      ],
      "execution_count": 38,
      "outputs": [
        {
          "output_type": "stream",
          "text": [
            "x* = (array([[ 4.  ,  3.  , -2.  ],\n",
            "       [ 0.  ,  0.25,  2.5 ],\n",
            "       [ 0.  ,  0.  ,  8.  ]]), array([-3.,  5.,  0.]))\n"
          ],
          "name": "stdout"
        }
      ]
    },
    {
      "metadata": {
        "colab_type": "text",
        "id": "M2JTo0XxYhoM"
      },
      "cell_type": "markdown",
      "source": [
        "## Considere o seguinte sistema utilizando o pivotamento parcial"
      ]
    },
    {
      "metadata": {
        "colab_type": "code",
        "id": "72ZVlAg_YhoN",
        "outputId": "71bedcf0-65ce-44d0-bec2-84a0643abe62",
        "colab": {
          "base_uri": "https://localhost:8080/",
          "height": 51
        }
      },
      "cell_type": "code",
      "source": [
        "A = np.array([[0.0002,2],[2,2]], dtype='float')\n",
        "b = np.array([5,6], dtype='float')\n",
        "\n",
        "print('x_ =',doPartialPivoting(A,b))"
      ],
      "execution_count": 39,
      "outputs": [
        {
          "output_type": "stream",
          "text": [
            "x_ = (array([[2.    , 2.    ],\n",
            "       [0.    , 1.9998]]), array([0.50005001, 2.49994999]))\n"
          ],
          "name": "stdout"
        }
      ]
    },
    {
      "metadata": {
        "colab_type": "text",
        "id": "k9PMqIlwYhoP"
      },
      "cell_type": "markdown",
      "source": [
        "## Desenvolva uma Máquina com precisão t = 3 dígitos"
      ]
    },
    {
      "metadata": {
        "colab_type": "text",
        "id": "IuUbprzVYhoQ"
      },
      "cell_type": "markdown",
      "source": [
        "\n",
        "Exigência 1: Obter a solução de um sistema linear com e sem pivotamento parcial."
      ]
    },
    {
      "metadata": {
        "colab_type": "text",
        "id": "9UC2fwBMYhoR"
      },
      "cell_type": "markdown",
      "source": [
        "Exigência 2: O def deverá possuir como parâmetro: a matriz(A), vetor(b), e o dígito(t)"
      ]
    },
    {
      "metadata": {
        "colab_type": "text",
        "id": "JSXxVISvYhoS"
      },
      "cell_type": "markdown",
      "source": [
        "Exigência 3: Retornar a resposta do sistema e verifica se ela está correta"
      ]
    },
    {
      "metadata": {
        "colab_type": "text",
        "id": "hFKBvUZuYhoS"
      },
      "cell_type": "markdown",
      "source": [
        "Exigência 4: Desenvolver um código genérico que consiga receber uma matrix quadrática de qualquer dimensão. Nota: Usar o exemplo apresentado em sala de aula."
      ]
    },
    {
      "metadata": {
        "colab_type": "code",
        "id": "u-oO1WDiYhoT",
        "outputId": "9f88e0bc-eef1-44a6-d471-ae078b39d5fc",
        "colab": {
          "base_uri": "https://localhost:8080/",
          "height": 34
        }
      },
      "cell_type": "code",
      "source": [
        "def computer(value, decimal_limit, min_exp = -3, max_exp = 3):\n",
        "    exp = 0\n",
        "    \n",
        "    if(value == 0):\n",
        "        return 0\n",
        "        \n",
        "    #Enquanto o valor for menor que 0.1, multiplica por 10.\n",
        "    while(abs(value) < 0.1):\n",
        "        value *= 10\n",
        "        exp -= 1\n",
        "    \n",
        "    #Enquanto o valor for maior que 1, divide o valor por 10.\n",
        "    while(abs(value) > 1):\n",
        "        value /= 10\n",
        "        exp += 1\n",
        "\n",
        "    #Indica se o expoente for maior ou menor que o limite, indica o underflow ou overflow.    \n",
        "    '''\n",
        "    if(exp > max_exp):\n",
        "        print('Overflow. Try another input')\n",
        "        return\n",
        "    elif(exp < min_exp):\n",
        "        print('Underflow')\n",
        "        return 0\n",
        "    \n",
        "    else:\n",
        "        print('Truncamento:', value, '. 10 ^', exp)\n",
        "    '''\n",
        "    \n",
        "    return round(value, decimal_limit)*10**exp\n",
        "        \n",
        "computer(0.0002,3)"
      ],
      "execution_count": 40,
      "outputs": [
        {
          "output_type": "execute_result",
          "data": {
            "text/plain": [
              "0.0002"
            ]
          },
          "metadata": {
            "tags": []
          },
          "execution_count": 40
        }
      ]
    },
    {
      "metadata": {
        "colab_type": "code",
        "id": "3U8RkZ-QYhoY",
        "outputId": "69570a7f-0b59-40cc-b2e6-963869ad37da",
        "colab": {
          "base_uri": "https://localhost:8080/",
          "height": 119
        }
      },
      "cell_type": "code",
      "source": [
        "# Escreva \"Sem Pivotamento Parcial\": Para executar a função que faz somente a eliminação gaussiana\n",
        "# Escreva \"Com Pivotamento Parcial\": Para executar a função que obtém a solução utilizando a eliminação com pivotamento parcial.\n",
        "\n",
        "def threeDigitMachine(A,b,t, mode):\n",
        "    row = np.size(A[0])\n",
        "    column = np.size(A[1])\n",
        "    row1 = np.size(b)\n",
        "    \n",
        "    #This step adjust all A's elements to 3-digits precision machine\n",
        "    for i in range(row):\n",
        "        for j in range(column):\n",
        "            A[i,j] = computer(A[i,j],t)\n",
        "\n",
        "    for k in range(row1):\n",
        "        b[k] = computer(b[k],t)\n",
        "\n",
        "    #Escolhe a forma de obtenção da solução dependendo do modo escolhido.\n",
        "    if(mode == 'Com Pivotamento Parcial'):\n",
        "        return doPartialPivoting(A,b)\n",
        "    else:\n",
        "        return improvedGaussElimination(A,b)\n",
        "#-------------------------------------------------------------------------------------------------------------------------------#\n",
        "\n",
        "#A = np.array([[3,2,4],[1,1,2],[4,3,-2]], dtype='float')\n",
        "#b = np.array([1,2,3], dtype='float')\n",
        "A = np.array([[0.0002,2],[2,2]], dtype='float')\n",
        "b = np.array([5,6], dtype='float')\n",
        "#A = np.array([[3,2,4,-1],[0,1,0,3],[0,-3,-5,7],[0,2,4,0]], dtype='float')\n",
        "#b = np.array([5,6,7,15], dtype='float')\n",
        "#A = np.array([[1,1,-2,1,3,-1],[2,-1,1,2,1,-3],[1,3,-3,-1,2,1],[5,2,-1,-1,2,1],[-3,-1,2,3,1,3],[4,3,1,-6,-3,-2]],dtype='float')\n",
        "#b = np.array([4,20,-15,-3,16,-27],dtype='float')             \n",
        "t = 3\n",
        "\n",
        "print('x =',threeDigitMachine(A,b,t,'Sem Pivotamento Parcial'))\n",
        "print('Usando o numpy:',np.linalg.solve(A,b))"
      ],
      "execution_count": 43,
      "outputs": [
        {
          "output_type": "stream",
          "text": [
            "Verify determinant: -3.999599999999999\n",
            "[[2.e-04 2.e+00]\n",
            " [0.e+00 2.e+00]] \n",
            "\n",
            "x = [0.50005    2.49994999]\n",
            "Usando o numpy: [0.50005    2.49994999]\n"
          ],
          "name": "stdout"
        }
      ]
    }
  ]
}