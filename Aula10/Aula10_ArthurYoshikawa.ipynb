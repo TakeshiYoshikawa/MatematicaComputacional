{
  "nbformat": 4,
  "nbformat_minor": 0,
  "metadata": {
    "colab": {
      "name": "Aula10_ArthurYoshikawa.ipynb",
      "version": "0.3.2",
      "provenance": [],
      "collapsed_sections": []
    },
    "kernelspec": {
      "name": "python3",
      "display_name": "Python 3"
    }
  },
  "cells": [
    {
      "metadata": {
        "id": "h8Q6NOwNhCpH",
        "colab_type": "code",
        "colab": {}
      },
      "cell_type": "code",
      "source": [
        "import matplotlib.pyplot as plt\n",
        "import numpy as np\n",
        "import numpy.random as npr\n",
        "import math\n",
        "from numpy.linalg import inv\n",
        "import scipy\n",
        "import scipy.linalg   # SciPy Linear Algebra Library"
      ],
      "execution_count": 0,
      "outputs": []
    },
    {
      "metadata": {
        "id": "oia8-TyBjnS1",
        "colab_type": "text"
      },
      "cell_type": "markdown",
      "source": [
        "## Etapa 1"
      ]
    },
    {
      "metadata": {
        "id": "rLvU9HhCjr01",
        "colab_type": "code",
        "outputId": "cc3f059a-7fc5-4c39-e8f1-b218364cf317",
        "colab": {
          "base_uri": "https://localhost:8080/",
          "height": 70
        }
      },
      "cell_type": "code",
      "source": [
        "#Etapa 1\n",
        "A = np.matrix([[3,2,4],[1,1,2],[4,3,2]],dtype='float')\n",
        "\n",
        "m21 = A[1,0]/A[0,0]\n",
        "m31 = A[2,0]/A[0,0]\n",
        "\n",
        "m0 = np.matrix([[1,0,0],[-m21,1,0],[-m31,0,1]],dtype='float')\n",
        "\n",
        "A1 = m0*A\n",
        "\n",
        "print(A1)"
      ],
      "execution_count": 3,
      "outputs": [
        {
          "output_type": "stream",
          "text": [
            "[[ 3.          2.          4.        ]\n",
            " [ 0.          0.33333333  0.66666667]\n",
            " [ 0.          0.33333333 -3.33333333]]\n"
          ],
          "name": "stdout"
        }
      ]
    },
    {
      "metadata": {
        "id": "wLUZ-iZ9W3ZX",
        "colab_type": "text"
      },
      "cell_type": "markdown",
      "source": [
        "## Etapa 2"
      ]
    },
    {
      "metadata": {
        "id": "ZY-Zcy1-W-KG",
        "colab_type": "code",
        "outputId": "d814beaf-f548-4aff-9fac-c4ed15c18898",
        "colab": {
          "base_uri": "https://localhost:8080/",
          "height": 70
        }
      },
      "cell_type": "code",
      "source": [
        "#Etapa 2\n",
        "\n",
        "m32 = A1[2,1]/A1[1,1]\n",
        "\n",
        "m1 = np.matrix([[1,0,0],[0,1,0],[0,-m32,1]],dtype='float')\n",
        "\n",
        "A2 = m1*A1\n",
        "\n",
        "print(A2)"
      ],
      "execution_count": 4,
      "outputs": [
        {
          "output_type": "stream",
          "text": [
            "[[ 3.00000000e+00  2.00000000e+00  4.00000000e+00]\n",
            " [ 0.00000000e+00  3.33333333e-01  6.66666667e-01]\n",
            " [ 0.00000000e+00  5.55111512e-17 -4.00000000e+00]]\n"
          ],
          "name": "stdout"
        }
      ]
    },
    {
      "metadata": {
        "id": "Mjq_GzL5W5um",
        "colab_type": "text"
      },
      "cell_type": "markdown",
      "source": [
        "## Etapa 3 - Verificar b2"
      ]
    },
    {
      "metadata": {
        "id": "FWTNdnodRS9j",
        "colab_type": "code",
        "outputId": "1fa2c023-b724-4e3b-afa5-195503bcecfa",
        "colab": {
          "base_uri": "https://localhost:8080/",
          "height": 34
        }
      },
      "cell_type": "code",
      "source": [
        "#Etapa 3\n",
        "\n",
        "b = np.array([1,2,3],dtype='float')\n",
        "\n",
        "b1 = np.matmul(m0.data,b)\n",
        "\n",
        "b2 = np.matmul(m1.data,b1)\n",
        "\n",
        "print(b2)"
      ],
      "execution_count": 5,
      "outputs": [
        {
          "output_type": "stream",
          "text": [
            "[ 1.00000000e+00  1.66666667e+00 -4.44089210e-16]\n"
          ],
          "name": "stdout"
        }
      ]
    },
    {
      "metadata": {
        "id": "HhjTjVBZh0Bx",
        "colab_type": "text"
      },
      "cell_type": "markdown",
      "source": [
        "## Atividade 5"
      ]
    },
    {
      "metadata": {
        "id": "9KLbSWGngJ5U",
        "colab_type": "code",
        "outputId": "403334ac-d074-4be8-ebb8-f182b9f5d69e",
        "colab": {
          "base_uri": "https://localhost:8080/",
          "height": 283
        }
      },
      "cell_type": "code",
      "source": [
        "def solveUpperTriangular(A,b):\n",
        "    n = A.shape[0]\n",
        "    x = np.zeros(n)\n",
        "    \n",
        "    #x[n-1] = b[n-1]/A[n-1,n-1]\n",
        "    \n",
        "    for k in range(n-1,-1,-1):\n",
        "        s = 0\n",
        "        for j in range(k,n):\n",
        "            s += A[k,j]*x[j]\n",
        "        x[k] = (b[k] - s)/A[k,k]\n",
        "            \n",
        "    return x\n",
        "\n",
        "def solveLowerTriangular(A, b):\n",
        "    n = A.shape[0]\n",
        "    x = np.zeros(n)\n",
        "    for i in range(n):\n",
        "        x[i] = (b[i] - (x*A[i]).sum())/A[i][i]\n",
        "    return x\n",
        "\n",
        "def decompose_LU(A,b):  \n",
        "    # Cria uma matriz U, que é uma cópia de A\n",
        "    U = np.copy(A)\n",
        "    n = np.shape(U)[0]  \n",
        "    \n",
        "    \n",
        "    # L é uma matriz identidade de tamanho n x n\n",
        "    L = np.eye(n)\n",
        "    \n",
        "    # Eliminação de Gauss sobre a matriz U ajustando num sistema triangular superior.\n",
        "    for j in range(n-1):  \n",
        "        for i in range(j+1,n):\n",
        "            L[i,j] = U[i,j]/U[j,j]  \n",
        "            U[i,j] = 0\n",
        "            for k in range(j+1,n):  \n",
        "                U[i,k] = U[i,k] - L[i,j]*U[j,k]  \n",
        "            \n",
        "    # Cálculo L.b = y\n",
        "    y = solveLowerTriangular(L,b)\n",
        "    #y = np.linalg.solve(L,b)\n",
        "    \n",
        "    # Obtido y, faça U.y = x, onde x é a solução final do sistema.\n",
        "    x = solveUpperTriangular(U,y)\n",
        "    \n",
        "    print('Matrix L:\\n',L)\n",
        "    print('\\nMatrix U:\\n',U)\n",
        "    print('\\nSolução y:\\n',y)\n",
        "    print('\\nSolução x:\\n',x)\n",
        "    \n",
        "\n",
        "A = np.array([[3,2,4],[1,1,2],[4,3,2]], dtype='float')\n",
        "b = np.array([1,2,3], dtype='float')\n",
        "\n",
        "#A = np.matrix([[5,4],[3,-6]], dtype='float')\n",
        "#b = np.array([1,2], dtype='float')\n",
        "\n",
        "#A = np.matrix([[4,3],[6,3]], dtype='float')\n",
        "#b = np.array([0,0])\n",
        "\n",
        "decompose_LU(A,b)"
      ],
      "execution_count": 194,
      "outputs": [
        {
          "output_type": "stream",
          "text": [
            "Matrix L:\n",
            " [[1.         0.         0.        ]\n",
            " [0.33333333 1.         0.        ]\n",
            " [1.33333333 1.         1.        ]]\n",
            "\n",
            "Matrix U:\n",
            " [[ 3.          2.          4.        ]\n",
            " [ 0.          0.33333333  0.66666667]\n",
            " [ 0.          0.         -4.        ]]\n",
            "\n",
            "Solução y:\n",
            " [ 1.00000000e+00  1.66666667e+00 -4.44089210e-16]\n",
            "\n",
            "Solução x:\n",
            " [-3.00000000e+00  5.00000000e+00  1.11022302e-16]\n"
          ],
          "name": "stdout"
        }
      ]
    },
    {
      "metadata": {
        "id": "JAMU49kb5p5F",
        "colab_type": "text"
      },
      "cell_type": "markdown",
      "source": [
        "## Fatoração LU com pivoteamento parcial"
      ]
    },
    {
      "metadata": {
        "id": "b3VYLTgt5O91",
        "colab_type": "code",
        "outputId": "ddd096d5-e908-48de-d616-9e6d7f6649a6",
        "colab": {
          "base_uri": "https://localhost:8080/",
          "height": 70
        }
      },
      "cell_type": "code",
      "source": [
        "P = np.matrix([[0,1,0],[0,0,1],[1,0,0]], dtype='float')\n",
        "A = np.matrix([[3,1,4],[1,5,9],[2,6,5]], dtype='float')\n",
        "\n",
        "print(P @ A)"
      ],
      "execution_count": 7,
      "outputs": [
        {
          "output_type": "stream",
          "text": [
            "[[1. 5. 9.]\n",
            " [2. 6. 5.]\n",
            " [3. 1. 4.]]\n"
          ],
          "name": "stdout"
        }
      ]
    },
    {
      "metadata": {
        "id": "SVJC8hrH5si8",
        "colab_type": "code",
        "outputId": "8d45c12e-ca42-4261-88d1-43701f4f5fc5",
        "colab": {
          "base_uri": "https://localhost:8080/",
          "height": 1225
        }
      },
      "cell_type": "code",
      "source": [
        "def LU_partial_decomposition(A,b):\n",
        "    n = np.shape(A)[0]\n",
        "    m = np.shape(A)[1]\n",
        "    \n",
        "    U = np.copy(A)\n",
        "    P = np.eye(n)\n",
        "    L = np.eye(n)\n",
        "    \n",
        "    # P_final e L_final são as matrizes P e F que serão modificadas ao longo do processo, ou seja, as matrizes finais da operação\n",
        "    P_final = np.eye(n)\n",
        "    L_final = np.zeros((n,n))\n",
        "    \n",
        "    for k in range(n-1):\n",
        "        #Verifica qual o maior elemento da coluna\n",
        "        r = np.argmax(abs(U[k:,k]))\n",
        "        r += k \n",
        "        \n",
        "        if (r != k):\n",
        "            P = np.eye(n)\n",
        "            P[[r,k],k:n] = P[[k,r],k:n]\n",
        "            U[[r,k],k:n] = U[[k,r],k:n] \n",
        "            \n",
        "            print(\"\\nEstagio de U:\\n\",U)\n",
        "            P_final = np.dot(P,P_final)\n",
        "            \n",
        "            #A' = P * A\n",
        "            print(\"\\nEstagio de P:\\n\",P_final)\n",
        "            L_final = np.dot(P,L_final)\n",
        "            \n",
        "        L = np.eye(n)\n",
        "        \n",
        "        #Seleciona o pivô, então executa a permutação que zera os elementos abaixo do pivô\n",
        "        for j in range(k+1,n):\n",
        "            L[j,k] = -(U[j,k] / U[k,k])\n",
        "            L_final[j,k] = (U[j,k] / U[k,k])\n",
        "            print(\"\\nEstagio de L:\\n\",L_final)\n",
        "            \n",
        "        U = np.dot(L,U)\n",
        "        print(\"\\nEstagio de U:\\n\",U)\n",
        "    \n",
        "    #Preenche a diagonal principal com elementos 1\n",
        "    np.fill_diagonal(L_final, 1)\n",
        "    \n",
        "    # i) Ly = Pb, onde:\n",
        "    Pb = P_final @ b\n",
        "    y = solveLowerTriangular(L_final,Pb)\n",
        "    \n",
        "    # ii) Ux = y\n",
        "    x = solveUpperTriangular(U,y)\n",
        "    \n",
        "    \n",
        "    print(\"\\nResultados finais\\n\")\n",
        "    print(\"Matrix Identidade final (P):\\n\",P_final)\n",
        "    print(\"\\nFator L:\\n\",L_final)\n",
        "    print(\"\\nFator U:\\n\",U)\n",
        "    print(\"\\nSolução y:\\n\",y)\n",
        "    print(\"\\nSolução x:\\n\",x)\n",
        "    \n",
        "\n",
        "A = np.matrix([[3,-4,1],[1,2,2],[4,0,-3]], dtype='float')\n",
        "b = np.array([9,3,-2], dtype='float')\n",
        "\n",
        "LU_partial_decomposition(A,b)"
      ],
      "execution_count": 291,
      "outputs": [
        {
          "output_type": "stream",
          "text": [
            "\n",
            "Estagio de U:\n",
            " [[ 4.  0. -3.]\n",
            " [ 1.  2.  2.]\n",
            " [ 3. -4.  1.]]\n",
            "\n",
            "Estagio de P:\n",
            " [[0. 0. 1.]\n",
            " [0. 1. 0.]\n",
            " [1. 0. 0.]]\n",
            "\n",
            "Estagio de L:\n",
            " [[0.   0.   0.  ]\n",
            " [0.25 0.   0.  ]\n",
            " [0.   0.   0.  ]]\n",
            "\n",
            "Estagio de L:\n",
            " [[0.   0.   0.  ]\n",
            " [0.25 0.   0.  ]\n",
            " [0.75 0.   0.  ]]\n",
            "\n",
            "Estagio de U:\n",
            " [[ 4.    0.   -3.  ]\n",
            " [ 0.    2.    2.75]\n",
            " [ 0.   -4.    3.25]]\n",
            "\n",
            "Estagio de U:\n",
            " [[ 4.    0.   -3.  ]\n",
            " [ 0.   -4.    3.25]\n",
            " [ 0.    2.    2.75]]\n",
            "\n",
            "Estagio de P:\n",
            " [[0. 0. 1.]\n",
            " [1. 0. 0.]\n",
            " [0. 1. 0.]]\n",
            "\n",
            "Estagio de L:\n",
            " [[ 0.    0.    0.  ]\n",
            " [ 0.75  0.    0.  ]\n",
            " [ 0.25 -0.5   0.  ]]\n",
            "\n",
            "Estagio de U:\n",
            " [[ 4.     0.    -3.   ]\n",
            " [ 0.    -4.     3.25 ]\n",
            " [ 0.     0.     4.375]]\n",
            "\n",
            "Resultados finais\n",
            "\n",
            "Matrix Identidade final (P):\n",
            " [[0. 0. 1.]\n",
            " [1. 0. 0.]\n",
            " [0. 1. 0.]]\n",
            "\n",
            "Fator L:\n",
            " [[ 1.    0.    0.  ]\n",
            " [ 0.75  1.    0.  ]\n",
            " [ 0.25 -0.5   1.  ]]\n",
            "\n",
            "Fator U:\n",
            " [[ 4.     0.    -3.   ]\n",
            " [ 0.    -4.     3.25 ]\n",
            " [ 0.     0.     4.375]]\n",
            "\n",
            "Solução y:\n",
            " [-2.   10.5   8.75]\n",
            "\n",
            "Solução x:\n",
            " [ 1. -1.  2.]\n"
          ],
          "name": "stdout"
        }
      ]
    }
  ]
}