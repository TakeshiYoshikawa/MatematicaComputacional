{
 "cells": [
  {
   "cell_type": "code",
   "execution_count": 2,
   "metadata": {},
   "outputs": [],
   "source": [
    "from IPython.display import Image\n",
    "from IPython.display import HTML\n",
    "import matplotlib.pyplot as plt\n",
    "import numpy as np\n",
    "import numpy.random as npr\n",
    "import math"
   ]
  },
  {
   "cell_type": "markdown",
   "metadata": {},
   "source": [
    "## Resolução de um sistema triangular superior"
   ]
  },
  {
   "cell_type": "code",
   "execution_count": 214,
   "metadata": {},
   "outputs": [],
   "source": [
    "def upper_triangular(A,b):\n",
    "    # m são linhas, e n são as colunas\n",
    "    m = 3\n",
    "    n = 3\n",
    "    x = np.zeros(n)\n",
    "    \n",
    "    x[n-1] = b[n-1]/A[n-1,n-1]\n",
    "    \n",
    "    for k in range(n-1,0,-1):\n",
    "        s = 0\n",
    "        for j in range(k,n):\n",
    "            s += A[k,j]*x[j]\n",
    "            x[k] = (b[k] - s)/A[k,k]\n",
    "            \n",
    "    \n",
    "A = np.array([[3.,2.,4.],[1.,1.,2.],[4.,3.,-2.]])\n",
    "b = np.array([1.,2.,3.])\n",
    "\n",
    "upper_triangular(A,b)"
   ]
  },
  {
   "cell_type": "markdown",
   "metadata": {},
   "source": [
    "## Eliminação de Gauss"
   ]
  },
  {
   "cell_type": "code",
   "execution_count": 219,
   "metadata": {},
   "outputs": [
    {
     "name": "stdout",
     "output_type": "stream",
     "text": [
      "Matrix\n",
      " [[ 3.          2.          4.        ]\n",
      " [ 0.          0.33333333  0.66666667]\n",
      " [ 0.          0.         -8.        ]]\n",
      "Vector\n",
      " [ 1.00000000e+00  1.66666667e+00 -4.44089210e-16]\n",
      "Factor\n",
      " 1.0000000000000002\n"
     ]
    }
   ],
   "source": [
    "A = np.array([[3.,2.,4.],[1.,1.,2.],[4.,3.,-2.]])\n",
    "b = np.array([1.,2.,3.])\n",
    "\n",
    "def elimination(A,b):\n",
    "    n = 3\n",
    "    #upper_triangular(A,b)\n",
    "    x = np.zeros(n)\n",
    "    \n",
    "    x[n-1] = b[n-1]/A[n-1,n-1]\n",
    "    \n",
    "    for k in range(n-1,0,-1):\n",
    "        s = 0\n",
    "        for j in range(k,n):\n",
    "            s += A[k,j]*x[j]\n",
    "            x[k] = (b[k] - s)/A[k,k]\n",
    "  \n",
    "\n",
    "    for k in range(n):\n",
    "        for i in range(k+1, n):\n",
    "            m = A[i,k]/A[k,k]\n",
    "            A[i,k] = 0\n",
    "            b[i] = b[i] - m*b[k]\n",
    "            for j in range(k+1, n):\n",
    "                A[i,j] = A[i,j] - m*A[k,j]\n",
    "                \n",
    "    print('Matrix\\n',A)\n",
    "    print('Vector\\n',b)\n",
    "    print('Factor\\n',m)\n",
    "    \n",
    "elimination(A,b)"
   ]
  }
 ],
 "metadata": {
  "anaconda-cloud": {},
  "kernelspec": {
   "display_name": "Python 3",
   "language": "python",
   "name": "python3"
  },
  "language_info": {
   "codemirror_mode": {
    "name": "ipython",
    "version": 3
   },
   "file_extension": ".py",
   "mimetype": "text/x-python",
   "name": "python",
   "nbconvert_exporter": "python",
   "pygments_lexer": "ipython3",
   "version": "3.6.5"
  }
 },
 "nbformat": 4,
 "nbformat_minor": 2
}
