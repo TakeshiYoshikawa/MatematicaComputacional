{
 "cells": [
  {
   "cell_type": "markdown",
   "metadata": {},
   "source": [
    "# Índice"
   ]
  },
  {
   "cell_type": "markdown",
   "metadata": {},
   "source": [
    "- [Decimal-Binario](#Decimal-Binario)\n",
    "- [Truncamento](#Truncamento)\n",
    "- [Arredondamento](#Arredondamento)\n",
    "- [Def Truncamento/Arredondamento](#Truncamento/Arredondamento)"
   ]
  },
  {
   "cell_type": "code",
   "execution_count": 4,
   "metadata": {},
   "outputs": [],
   "source": [
    "#pathFileImages = 'C:/Users/claud/OneDrive/Documentos/Figuras Matemática Computacional/Erros/'\n",
    "\n",
    "pathFileImages = 'C:/Users/claud/Dropbox/RepoGit/disciplina/temp/MatematicaComputacionalUFPA/Noções Básicas sobre Erros/Figuras Representação/'\n",
    "\n",
    "\n",
    "from IPython.display import Image\n",
    "from IPython.display import HTML\n",
    "import matplotlib.pyplot as plt\n",
    "import numpy as np\n",
    "import numpy.random as npr\n",
    "import math"
   ]
  },
  {
   "cell_type": "markdown",
   "metadata": {},
   "source": [
    "# Decimal-Binario"
   ]
  },
  {
   "cell_type": "code",
   "execution_count": 7,
   "metadata": {},
   "outputs": [
    {
     "name": "stdout",
     "output_type": "stream",
     "text": [
      "Decimal:  0.109375\n"
     ]
    }
   ],
   "source": [
    "def convert(value):\n",
    "    #Inicializa a lista de dígito decimal.\n",
    "    digit = []\n",
    "    result = value*10\n",
    "    #Particiona o valor da variável result numa parte inteira e fracionária.\n",
    "    fraction = math.modf(result)\n",
    "    #Conversão do valor flutuante para inteiro, sequencialmente, numa string para apresentação.\n",
    "    string = int(fraction[1])\n",
    "    string = str(string)\n",
    "    #Adiciona o valor inteiro à lista de dígito para exibição.\n",
    "    digit.append(string)\n",
    "    \n",
    "    while(fraction[0] != 0):\n",
    "        #Realiza as mesmas operações, entretanto com um loop enquanto até a parte fracionária atingir 0.\n",
    "        result = fraction[0]*10\n",
    "        fraction = math.modf(result)\n",
    "        string = int(fraction[1])\n",
    "        string = str(string)\n",
    "        digit.append(string)\n",
    "    return digit\n",
    "\n",
    "binary = 2**-4 + 2**-5 + 2**-6\n",
    "result = convert(binary)\n",
    "#Utilizado o join para formatar o resultado final. \n",
    "result = ''.join(result)\n",
    "print(\"Decimal: \", '0.'+result)"
   ]
  },
  {
   "cell_type": "markdown",
   "metadata": {
    "collapsed": true
   },
   "source": [
    "# Truncamento"
   ]
  },
  {
   "cell_type": "code",
   "execution_count": 5,
   "metadata": {},
   "outputs": [
    {
     "name": "stdout",
     "output_type": "stream",
     "text": [
      "a) 1.25\n",
      "Truncamento: 1.25 = 1.25 * 10**(-1)\n",
      "Truncamento = 0.125\n",
      "\n",
      "b) 10.053\n",
      "Truncamento: 10.053 = 10.053 * 10**(-2)\n",
      "Truncamento: 0.100\n",
      "\n",
      "c) -238.15\n",
      "Truncamento: -238.15 = 238.15 * 10**(-3)\n",
      "Truncamento: -0.238\n",
      "\n",
      "d) 2.71828\n",
      "Truncamento: 2.71828 = 2.71828 * 10**(-1)\n",
      "Truncamento: 0.271\n",
      "\n",
      "e) 0.000007\n",
      "Truncamento: 0.000007 = 0.000007 * 10**(5)\n",
      "Truncamento: overflow\n",
      "\n",
      "f) 718235.82\n",
      "Truncamento: 718235.82 = 718235.82 * 10**(-6)\n",
      "Truncamento: underflow\n",
      "\n"
     ]
    }
   ],
   "source": [
    "#maquina de 3 digitos: Padrão 0.abc * 10^e  |  e pertence ao intervalo [-4,4]\n",
    "\n",
    "print(\"a) 1.25\")\n",
    "print(\"Truncamento: 1.25 = 1.25 * 10**(-1)\")\n",
    "print(\"Truncamento = 0.125\\n\")\n",
    "\n",
    "print(\"b) 10.053\")\n",
    "print(\"Truncamento: 10.053 = 10.053 * 10**(-2)\")\n",
    "print(\"Truncamento: 0.100\\n\")\n",
    "\n",
    "print(\"c) -238.15\")\n",
    "print(\"Truncamento: -238.15 = 238.15 * 10**(-3)\")\n",
    "print(\"Truncamento: -0.238\\n\")\n",
    "\n",
    "print(\"d) 2.71828\")\n",
    "print(\"Truncamento: 2.71828 = 2.71828 * 10**(-1)\")\n",
    "print(\"Truncamento: 0.271\\n\")\n",
    "\n",
    "print(\"e) 0.000007\")\n",
    "print(\"Truncamento: 0.000007 = 0.000007 * 10**(5)\")\n",
    "print(\"Truncamento: overflow\\n\")\n",
    "\n",
    "print(\"f) 718235.82\")\n",
    "print(\"Truncamento: 718235.82 = 718235.82 * 10**(-6)\")\n",
    "print(\"Truncamento: underflow\\n\")"
   ]
  },
  {
   "cell_type": "markdown",
   "metadata": {},
   "source": [
    "# Arredondamento"
   ]
  },
  {
   "cell_type": "code",
   "execution_count": 8,
   "metadata": {},
   "outputs": [
    {
     "name": "stdout",
     "output_type": "stream",
     "text": [
      "a) 1.25\n",
      "Arredondamento: 1.25 = 0.125 * 10**1\n",
      "Arredondamento: 0.125\n",
      "\n",
      "b) 10.053\n",
      "Arredondamento: 10.053 = 0.10053 * 10**2\n",
      "Arredondamento: 0.101\n",
      "\n",
      "c) -238.15\n",
      "Arredondamento: -238.15 = -0.23815 * 10**3\n",
      "Arredondamento: -0.238\n",
      "\n",
      "d) 2.71828\n",
      "Arredondamento: 2.71828 = 0.271828 * 10**1\n",
      "Arredondamento: 0.272\n",
      "\n",
      "e) 0.000007\n",
      "Arredondamento: 0.000007 = 0.7 * 10**(-5)\n",
      "Arredondamento: underflow\n",
      "\n",
      "f) 718235.82\n",
      "Arredondamento: 718235.82 = 0.718 * 10**(6)\n",
      "Arredondamento: overflow\n",
      "\n"
     ]
    }
   ],
   "source": [
    "#maquina de 3 digitos: Padrão 0.abc * 10^e  |  e pertence ao intervalo [-4,4]\n",
    "\n",
    "print(\"a) 1.25\")\n",
    "print(\"Arredondamento: 1.25 = 0.125 * 10**1\")\n",
    "print(\"Arredondamento: 0.125\\n\")\n",
    "\n",
    "print(\"b) 10.053\")\n",
    "print(\"Arredondamento: 10.053 = 0.10053 * 10**2\")\n",
    "print(\"Arredondamento: 0.101\\n\")\n",
    "\n",
    "print(\"c) -238.15\")\n",
    "print(\"Arredondamento: -238.15 = -0.23815 * 10**3\")\n",
    "print(\"Arredondamento: -0.238\\n\")\n",
    "\n",
    "print(\"d) 2.71828\")\n",
    "print(\"Arredondamento: 2.71828 = 0.271828 * 10**1\")\n",
    "print(\"Arredondamento: 0.272\\n\")\n",
    "\n",
    "print(\"e) 0.000007\")\n",
    "print(\"Arredondamento: 0.000007 = 0.7 * 10**(-5)\")\n",
    "print(\"Arredondamento: underflow\\n\")\n",
    "\n",
    "print(\"f) 718235.82\")\n",
    "print(\"Arredondamento: 718235.82 = 0.718 * 10**(6)\")\n",
    "print(\"Arredondamento: overflow\\n\")"
   ]
  },
  {
   "cell_type": "markdown",
   "metadata": {},
   "source": [
    "# Truncamento/Arredondamento"
   ]
  },
  {
   "cell_type": "code",
   "execution_count": 10,
   "metadata": {},
   "outputs": [
    {
     "name": "stdout",
     "output_type": "stream",
     "text": [
      "Truncamento: 0.125 . 10 ^ -1\n",
      "Arredondamento: 0.125\n"
     ]
    }
   ],
   "source": [
    "def computer(value, decimal_limit, min_exp, max_exp):\n",
    "    exp = 0\n",
    "    \n",
    "    #Se o valor for negativo, então |x|.\n",
    "    if(value < 0):\n",
    "        value = abs(value)\n",
    "        \n",
    "    #Enquanto o valor for menor que 0.1, multiplica por 10.\n",
    "    while(value < 0.1):\n",
    "        value *= 10\n",
    "        exp += 1\n",
    "    \n",
    "    #Enquanto o valor for maior que 1, divide o valor por 10.\n",
    "    while(value > 1):\n",
    "        value /= 10\n",
    "        exp -= 1\n",
    "\n",
    "    #Indica se o expoente for maior ou menor que o limite, indica o underflow ou overflow.    \n",
    "    if(exp > max_exp):\n",
    "        print('Overflow')\n",
    "    elif(exp < min_exp):\n",
    "        print('Underflow')\n",
    "    else:\n",
    "        print('Truncamento:', value, '. 10 ^', exp)\n",
    "        print('Arredondamento:', round(value,decimal_limit))\n",
    "    \n",
    "computer(1.25, 3, -3, 3)"
   ]
  }
 ],
 "metadata": {
  "kernelspec": {
   "display_name": "Python 3",
   "language": "python",
   "name": "python3"
  },
  "language_info": {
   "codemirror_mode": {
    "name": "ipython",
    "version": 3
   },
   "file_extension": ".py",
   "mimetype": "text/x-python",
   "name": "python",
   "nbconvert_exporter": "python",
   "pygments_lexer": "ipython3",
   "version": "3.6.5"
  }
 },
 "nbformat": 4,
 "nbformat_minor": 2
}
