{
  "nbformat": 4,
  "nbformat_minor": 0,
  "metadata": {
    "colab": {
      "name": "Aula11_ArthurYoshikawa.ipynb",
      "version": "0.3.2",
      "provenance": [],
      "collapsed_sections": [
        "ro7AplgmE-9F",
        "6GyM4GfgOE4x",
        "MXUPG_TaZ0mH",
        "GJGs6ElEZ26g",
        "3bhjkq_PZ6bm"
      ]
    },
    "kernelspec": {
      "name": "python3",
      "display_name": "Python 3"
    }
  },
  "cells": [
    {
      "metadata": {
        "id": "_aHRP1Q2Ee3i",
        "colab_type": "code",
        "colab": {}
      },
      "cell_type": "code",
      "source": [
        "import matplotlib.pyplot as plt\n",
        "import numpy as np\n",
        "import numpy.random as npr\n",
        "import math"
      ],
      "execution_count": 0,
      "outputs": []
    },
    {
      "metadata": {
        "id": "wSs_AGFSE-O0",
        "colab_type": "text"
      },
      "cell_type": "markdown",
      "source": [
        "# Métodos Iterativos"
      ]
    },
    {
      "metadata": {
        "id": "yqm3WuPzF3q-",
        "colab_type": "text"
      },
      "cell_type": "markdown",
      "source": [
        "## Teste de Parada"
      ]
    },
    {
      "metadata": {
        "id": "-uJwXgxKDoSO",
        "colab_type": "code",
        "colab": {}
      },
      "cell_type": "code",
      "source": [
        "def testeDeParada(A, i):\n",
        "    x = []\n",
        "    if (i == 0): \n",
        "        return 1\n",
        "    else:\n",
        "        for j in range(len(A[i])): \n",
        "            x.append(abs(A[i,j] - A[i-1,j]))\n",
        "        d_k = max(x)\n",
        "        dr_k = d_k/max(A[i])\n",
        "        return dr_k"
      ],
      "execution_count": 0,
      "outputs": []
    },
    {
      "metadata": {
        "id": "1W46Q66JD2Fm",
        "colab_type": "text"
      },
      "cell_type": "markdown",
      "source": [
        "## Critério de Convergência"
      ]
    },
    {
      "metadata": {
        "id": "vO369LNRD3m9",
        "colab_type": "code",
        "outputId": "9c0fcbdc-560e-47de-d437-ce1a7c30bd36",
        "colab": {
          "base_uri": "https://localhost:8080/",
          "height": 34
        }
      },
      "cell_type": "code",
      "source": [
        "def verifyConvergence(A):\n",
        "    n = len(A)\n",
        "    i = 0\n",
        "    for line in A:\n",
        "        #Para cada linha:\n",
        "        diagonal_value = line[i]\n",
        "        sum_row = sum([abs(number) for number in line])-diagonal_value\n",
        "        i+=1\n",
        "        \n",
        "        if diagonal_value <= sum_row: \n",
        "            return False\n",
        "    return True\n",
        "\n",
        "A = np.array([[10,2,1],[1,5,1],[2,3,10]], dtype='float')\n",
        "verifyConvergence(A)"
      ],
      "execution_count": 15,
      "outputs": [
        {
          "output_type": "execute_result",
          "data": {
            "text/plain": [
              "True"
            ]
          },
          "metadata": {
            "tags": []
          },
          "execution_count": 15
        }
      ]
    },
    {
      "metadata": {
        "id": "VkoB4QqDEPo1",
        "colab_type": "text"
      },
      "cell_type": "markdown",
      "source": [
        "## Método de Gauss-Jacobi"
      ]
    },
    {
      "metadata": {
        "id": "7YL0cEL5EUa1",
        "colab_type": "code",
        "colab": {}
      },
      "cell_type": "code",
      "source": [
        "# def - a partir da matriz A e b escreva a matrix de acordo com o esquema de Jacobi"
      ],
      "execution_count": 0,
      "outputs": []
    },
    {
      "metadata": {
        "id": "FpqzY0KuPP_J",
        "colab_type": "code",
        "outputId": "d52361b9-9ea4-4889-842d-fcfbc03702af",
        "colab": {
          "base_uri": "https://localhost:8080/",
          "height": 390
        }
      },
      "cell_type": "code",
      "source": [
        "# Método de eliminação:\n",
        "def jacobiMethod(n_iters, A, b, x):\n",
        "    diagonal = extract_diagonal(A)\n",
        "    R = A - np.diagflat(diagonal)\n",
        "    for i in range(n_iters):\n",
        "        x = (b - np.dot(R,x))/ diagonal\n",
        "        print(\"Iteration\",i,x)\n",
        "    return x\n",
        "\n",
        "A = np.array([[10,-1,2,0],[-1,11,-1,3],[2,-1,10,-1],[0,3,-1,8]], dtype='float')\n",
        "b = np.array([6,25,-11,15], dtype='float')\n",
        "x = np.array([0,0,0,0], dtype='float')\n",
        "n = 20\n",
        "\n",
        "jacobiMethod(n, A, b, x)\n",
        "print(\"Solução exata via numpy:\",np.linalg.solve(A,b))"
      ],
      "execution_count": 17,
      "outputs": [
        {
          "output_type": "stream",
          "text": [
            "Iteration 0 [ 0.6         2.27272727 -1.1         1.875     ]\n",
            "Iteration 1 [ 1.04727273  1.71590909 -0.80522727  0.88522727]\n",
            "Iteration 2 [ 0.93263636  2.05330579 -1.04934091  1.13088068]\n",
            "Iteration 3 [ 1.01519876  1.95369576 -0.96810863  0.97384272]\n",
            "Iteration 4 [ 0.9889913   2.01141473 -1.0102859   1.02135051]\n",
            "Iteration 5 [ 1.00319865  1.99224126 -0.99452174  0.99443374]\n",
            "Iteration 6 [ 0.99812847  2.00230688 -1.00197223  1.00359431]\n",
            "Iteration 7 [ 1.00062513  1.9986703  -0.99903558  0.99888839]\n",
            "Iteration 8 [ 0.99967415  2.00044767 -1.00036916  1.00061919]\n",
            "Iteration 9 [ 1.0001186   1.99976795 -0.99982814  0.99978598]\n",
            "Iteration 10 [ 0.99994242  2.00008477 -1.00006833  1.0001085 ]\n",
            "Iteration 11 [ 1.00002214  1.99995896 -0.99996916  0.99995967]\n",
            "Iteration 12 [ 0.99998973  2.00001582 -1.00001257  1.00001924]\n",
            "Iteration 13 [ 1.00000409  1.99999268 -0.99999444  0.9999925 ]\n",
            "Iteration 14 [ 0.99999816  2.00000292 -1.0000023   1.00000344]\n",
            "Iteration 15 [ 1.00000075  1.99999868 -0.99999899  0.99999862]\n",
            "Iteration 16 [ 0.99999967  2.00000054 -1.00000042  1.00000062]\n",
            "Iteration 17 [ 1.00000014  1.99999976 -0.99999982  0.99999975]\n",
            "Iteration 18 [ 0.99999994  2.0000001  -1.00000008  1.00000011]\n",
            "Iteration 19 [ 1.00000003  1.99999996 -0.99999997  0.99999995]\n",
            "Solução exata via numpy: [ 1.  2. -1.  1.]\n"
          ],
          "name": "stdout"
        }
      ]
    },
    {
      "metadata": {
        "id": "DBH4pVUKEcL9",
        "colab_type": "text"
      },
      "cell_type": "markdown",
      "source": [
        "## Método de Gauss-Seidel"
      ]
    },
    {
      "metadata": {
        "id": "pwLkKD4tPmzp",
        "colab_type": "code",
        "outputId": "a5185bbd-cd93-416f-aaf5-1624dd9a995c",
        "colab": {
          "base_uri": "https://localhost:8080/",
          "height": 123
        }
      },
      "cell_type": "code",
      "source": [
        "def gauss_seidel(n_iter,A,b,x):\n",
        "    n = len(A)\n",
        "    \n",
        "    for o in range(n_iter):\n",
        "        for i in range(n):\n",
        "            alpha = 0\n",
        "            for j in range(n):\n",
        "                if(j != i):\n",
        "                    alpha = alpha + A[i,j] * x[j]\n",
        "            x[i] = np.dot(1/A[i,i], b[i] - alpha)\n",
        "        print(\"Iteracao\",o,x)\n",
        "    return x\n",
        "\n",
        "#A = np.array([[3,2,4],[1,1,2],[4,3,-2]], dtype='float')\n",
        "#b = np.array([1,2,3], dtype='float')\n",
        "A = np.array([[10,-1,2,0],[-1,11,-1,3],[2,-1,10,-1],[0,3,-1,8]], dtype='float')\n",
        "b = np.array([6,25,-11,15], dtype='float')\n",
        "x = np.array([1,1,1,1], dtype='float')\n",
        "n = 5\n",
        "\n",
        "gauss_seidel(n,A,b,x)\n",
        "print(\"Resultado obtido com numpy:\",np.linalg.solve(A,b))"
      ],
      "execution_count": 18,
      "outputs": [
        {
          "output_type": "stream",
          "text": [
            "Iteracao 0 [ 0.5         2.13636364 -0.88636364  0.96306818]\n",
            "Iteracao 1 [ 0.99090909  2.01957645 -0.99991736  0.99266916]\n",
            "Iteracao 2 [ 1.00194112  2.0021833  -1.00090298  0.99906839]\n",
            "Iteracao 3 [ 1.00039893  2.00020825 -1.00015212  0.99990289]\n",
            "Iteracao 4 [ 1.00005125  2.00001731 -1.00001823  0.99999123]\n",
            "Resultado obtido com numpy: [ 1.  2. -1.  1.]\n"
          ],
          "name": "stdout"
        }
      ]
    },
    {
      "metadata": {
        "id": "-exR5mQSEokm",
        "colab_type": "text"
      },
      "cell_type": "markdown",
      "source": [
        "## Interpretação Geométrica para o método Jacobi"
      ]
    },
    {
      "metadata": {
        "id": "K-a3bnj2Eo_s",
        "colab_type": "code",
        "outputId": "1d10ed55-4746-490e-b0b6-5ab6dde6b997",
        "colab": {
          "base_uri": "https://localhost:8080/",
          "height": 346
        }
      },
      "cell_type": "code",
      "source": [
        "# Método de eliminação:\n",
        "def jacobi_geometrical(n_iters, A, b, x):\n",
        "    points = []\n",
        "    # Lista com as coordenadas das soluções por iteração.\n",
        "    points.append(x)\n",
        "    \n",
        "    diagonal = extract_diagonal(A)\n",
        "    R = A - np.diagflat(diagonal)\n",
        "    \n",
        "    for i in range(n_iters):\n",
        "        x = (b - np.dot(R,x))/ diagonal\n",
        "        points.append(x)\n",
        "        #print(\"Iteration\",i,x)\n",
        "        #print(\"points list\",points)\n",
        "    return points\n",
        "\n",
        "line1 = []\n",
        "line2 = []\n",
        "\n",
        "A = np.array([[1,1],[1,-3]], dtype='float')\n",
        "b = np.array([3,-3], dtype='float')\n",
        "x = np.array([0,0], dtype='float')\n",
        "n = 4\n",
        "\n",
        "points = jacobi_geometrical(n, A, b, x)\n",
        "\n",
        "\n",
        "for i in range(5):\n",
        "    plt.scatter(points[i][0],points[i][1])\n",
        "    \n",
        "for x1 in range(5):\n",
        "    line1.append(3 - x1)\n",
        "    line2.append(1/3 * (3 + x1))\n",
        "\n",
        "plt.plot(line1)\n",
        "plt.plot(line2)\n",
        "plt.show()"
      ],
      "execution_count": 19,
      "outputs": [
        {
          "output_type": "display_data",
          "data": {
            "image/png": "[encoded data removed]",
            "text/plain": [
              "<matplotlib.figure.Figure at 0x7f70559fac88>"
            ]
          },
          "metadata": {
            "tags": []
          }
        }
      ]
    },
    {
      "metadata": {
        "id": "F-GWrYwHjuKI",
        "colab_type": "text"
      },
      "cell_type": "markdown",
      "source": [
        "## Interpretação para o método Gauss-Seidel (Ajeitar)"
      ]
    },
    {
      "metadata": {
        "id": "RJuO1GRGj8s9",
        "colab_type": "code",
        "outputId": "14abb8f0-ee4e-4d63-c7e7-d8400eb3cb46",
        "colab": {
          "base_uri": "https://localhost:8080/",
          "height": 384
        }
      },
      "cell_type": "code",
      "source": [
        "def gauss_seidel_geometrical(n_iter,A,b,x):\n",
        "    n = len(A)\n",
        "    y = np.copy(x)\n",
        "    points = []\n",
        "    points.append(y)\n",
        "    \n",
        "    for o in range(n_iter):\n",
        "        for i in range(n):\n",
        "            alpha = 0\n",
        "            for j in range(n):\n",
        "                if(j != i):\n",
        "                    alpha = alpha + A[i,j] * x[j]\n",
        "            x[i] = np.dot(1/A[i,i], b[i] - alpha)\n",
        "            y = np.copy(x)\n",
        "            points.append(y)\n",
        "    return points\n",
        "\n",
        "\n",
        "line1 = []\n",
        "line2 = []\n",
        "\n",
        "A = np.array([[1,1],[1,-3]], dtype='float')\n",
        "b = np.array([3,-3], dtype='float')\n",
        "x = np.array([0,0], dtype='float')\n",
        "n = 4\n",
        "\n",
        "points = gauss_seidel_geometrical(n, A, b, x)\n",
        "print(points)\n",
        "\n",
        "for i in range(7):\n",
        "    plt.scatter(points[i][0],points[i][1])\n",
        "    \n",
        "    \n",
        "for x1 in range(7):\n",
        "    line1.append(3 - x1)\n",
        "    line2.append(1/3 * (3 + x1))\n",
        "\n",
        "plt.axvline(x = 0, color = 'black')\n",
        "plt.axhline(y = 0, color = 'black')\n",
        "plt.plot(line1)\n",
        "plt.plot(line2)\n",
        "\n",
        "plt.plot([0,3],[0,0])\n",
        "plt.plot([3,3],[0,2])\n",
        "plt.plot([3,1],[2,2])\n",
        "plt.plot([1,1],[2,4/3])\n",
        "plt.plot([1,5/3],[4/3,4/3])\n",
        "plt.plot([5/3,5/3],[4/3,14/9])\n",
        "plt.show()\n"
      ],
      "execution_count": 133,
      "outputs": [
        {
          "output_type": "stream",
          "text": [
            "[array([0., 0.]), array([3., 0.]), array([3., 2.]), array([1., 2.]), array([1.        , 1.33333333]), array([1.66666667, 1.33333333]), array([1.66666667, 1.55555556]), array([1.44444444, 1.55555556]), array([1.44444444, 1.48148148])]\n"
          ],
          "name": "stdout"
        },
        {
          "output_type": "display_data",
          "data": {
            "image/png": "[encoded data removed]",
            "text/plain": [
              "<matplotlib.figure.Figure at 0x7f7052e0d2b0>"
            ]
          },
          "metadata": {
            "tags": []
          }
        }
      ]
    },
    {
      "metadata": {
        "id": "ro7AplgmE-9F",
        "colab_type": "text"
      },
      "cell_type": "markdown",
      "source": [
        "## Atividade"
      ]
    },
    {
      "metadata": {
        "id": "WlzFupT7FF8G",
        "colab_type": "text"
      },
      "cell_type": "markdown",
      "source": [
        "<font size=\"+2\"> Def para o critério de parada. Demonstrar para o Exemplo 1  </font>"
      ]
    },
    {
      "metadata": {
        "id": "tYpIIw50E5eu",
        "colab_type": "code",
        "colab": {}
      },
      "cell_type": "code",
      "source": [
        "A = np.array([[10,-1,2,0],[-1,11,-1,3],[2,-1,10,-1],[0,3,-1,8]], dtype='float')\n",
        "b = np.array([6,25,-11,15],dtype='float')\n",
        "x = np.array([0,0,0,0],dtype='float')\n",
        "\n",
        "jacobiMethod(30,A,b,x)"
      ],
      "execution_count": 0,
      "outputs": []
    },
    {
      "metadata": {
        "id": "NnJQltPAJV1c",
        "colab_type": "text"
      },
      "cell_type": "markdown",
      "source": [
        "# Métodos Iterativos de Jacobi"
      ]
    },
    {
      "metadata": {
        "id": "DIxZXf6UJyLx",
        "colab_type": "text"
      },
      "cell_type": "markdown",
      "source": [
        "## JacobiMethod"
      ]
    },
    {
      "metadata": {
        "id": "nr95iND5J_3A",
        "colab_type": "code",
        "colab": {}
      },
      "cell_type": "code",
      "source": [
        "def extract_diagonal(A):\n",
        "    return [ A[i][i] for i in range(len(A)) ]\n",
        "\n",
        "def diagonal_matrix_fication(values):\n",
        "    A = np.zeros((n,n))\n",
        "    return [A[i][i] == values[i] for i in range(len(values))]\n",
        "    \n",
        "def jacobiMethod(n_iters, A, b, x):\n",
        "    diagonal = extract_diagonal(A)\n",
        "    R = A - np.diagflat(diagonal)\n",
        "    for i in range(n_iters):\n",
        "        x = (b - np.dot(R,x))/ diagonal\n",
        "        print(\"Iteration\",i,x)\n",
        "    return x\n",
        "\n",
        "A = np.array([[10,2,1],[1,5,1],[2,3,10]], dtype='float')\n",
        "b = np.array([7.,-8.,6.],dtype='float')\n",
        "x = np.array([0.7,-1.6,0.6],dtype='float')\n",
        "n = 5\n",
        "\n",
        "x = jacobiMethod(n, A, b, x)\n",
        "print(\"\\nO resultado obtido por Jacobi:\",x)\n",
        "print(\"O resultado obtido pelo numpy:\",np.linalg.solve(A, b))"
      ],
      "execution_count": 0,
      "outputs": []
    },
    {
      "metadata": {
        "id": "6GyM4GfgOE4x",
        "colab_type": "text"
      },
      "cell_type": "markdown",
      "source": [
        "## Critério de Linhas"
      ]
    },
    {
      "metadata": {
        "id": "sjURDkdEOIRg",
        "colab_type": "code",
        "colab": {}
      },
      "cell_type": "code",
      "source": [
        "def verifyConvergence(A):\n",
        "    n = len(A)\n",
        "    i = 0\n",
        "    for line in A:\n",
        "        #Para cada linha:\n",
        "        diagonal_value = line[i]\n",
        "        sum_row = sum([abs(number) for number in line])-diagonal_value\n",
        "        i+=1\n",
        "        \n",
        "        if diagonal_value <= sum_row: \n",
        "            return False\n",
        "    return True\n",
        "\n",
        "A = np.array([[10.,2.,1.],[1.,5.,1.],[2.,3.,10.]])\n",
        "\n",
        "verifyConvergence(A)"
      ],
      "execution_count": 0,
      "outputs": []
    },
    {
      "metadata": {
        "id": "MXUPG_TaZ0mH",
        "colab_type": "text"
      },
      "cell_type": "markdown",
      "source": [
        "### Exemplo A"
      ]
    },
    {
      "metadata": {
        "id": "4tpduZS2Z1-S",
        "colab_type": "code",
        "colab": {}
      },
      "cell_type": "code",
      "source": [
        "A = np.array([[10,2,1],[1,5,1],[2,3,10]])\n",
        "verifyConvergence(A)"
      ],
      "execution_count": 0,
      "outputs": []
    },
    {
      "metadata": {
        "id": "GJGs6ElEZ26g",
        "colab_type": "text"
      },
      "cell_type": "markdown",
      "source": [
        "### Exemplo B"
      ]
    },
    {
      "metadata": {
        "id": "LikzcYkhZP0L",
        "colab_type": "code",
        "colab": {}
      },
      "cell_type": "code",
      "source": [
        "A = np.array([[1,1],[1,-3]], dtype='float')\n",
        "b = np.array([3,-3], dtype='float') \n",
        "x = np.array([3/2,3/2], dtype='float')\n",
        "n_iters = 10\n",
        "\n",
        "answer = jacobiMethod(n_iters,A,b,x)\n",
        "\n",
        "print(\"O resultado obtido pelo meu def:\\n\",answer)\n",
        "print(\"O resultado obtido pelo linalg.solve:\\n\",np.linalg.solve(A, b))\n",
        "\n",
        "if verifyConvergence(A): \n",
        "    print(\"\\nA matrix A satisfaz o criterio\")\n",
        "else: \n",
        "    print(\"\\nA matriz não segue o criterio das linhas\")"
      ],
      "execution_count": 0,
      "outputs": []
    },
    {
      "metadata": {
        "id": "3bhjkq_PZ6bm",
        "colab_type": "text"
      },
      "cell_type": "markdown",
      "source": [
        "### Exemplo C"
      ]
    },
    {
      "metadata": {
        "id": "vOKH52HfZ7XC",
        "colab_type": "code",
        "colab": {}
      },
      "cell_type": "code",
      "source": [
        "A = np.array([[1,3,1],[5,2,2],[0,6,8]], dtype='float')\n",
        "b = np.array([-2,3,-6], dtype='float')\n",
        "x = [] \n",
        "n = 20 \n",
        "\n",
        "print(\"Antes da troca de linha:\")\n",
        "print(A)\n",
        "if verifyConvergence(A): \n",
        "    print(\"\\n A matriz obedece o critério\")\n",
        "else: \n",
        "    print(\"\\nA matriz não obedece o critério das linhas\")\n",
        "    \n",
        "A = np.array([[5,2,2],[1,3,1],[0,6,8]], dtype='float')\n",
        "b = np.array([3.,-2.,-6.], dtype='float')    \n",
        "\n",
        "print(\"\\n\\nApós a troca de linha:\")\n",
        "print(A)\n",
        "if verifyConvergence(A): \n",
        "    print(\"\\n A matriz obedece o critério\")\n",
        "else: \n",
        "    print(\"\\nA matriz não obedece o critério das linhas\")"
      ],
      "execution_count": 0,
      "outputs": []
    }
  ]
}